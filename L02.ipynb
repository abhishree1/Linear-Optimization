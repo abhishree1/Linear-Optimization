{
  "nbformat": 4,
  "nbformat_minor": 0,
  "metadata": {
    "colab": {
      "provenance": []
    },
    "kernelspec": {
      "name": "python3",
      "display_name": "Python 3"
    },
    "language_info": {
      "name": "python"
    }
  },
  "cells": [
    {
      "cell_type": "code",
      "execution_count": null,
      "metadata": {
        "id": "m8urEfpu8nwg"
      },
      "outputs": [],
      "source": []
    },
    {
      "cell_type": "code",
      "source": [
        "import numpy as np\n",
        "import pandas as pd\n",
        "from sympy import *\n",
        "import random"
      ],
      "metadata": {
        "id": "Xnr9tLQxf2te"
      },
      "execution_count": null,
      "outputs": []
    },
    {
      "cell_type": "code",
      "source": [
        "\n",
        "import csv\n",
        "data2=[]\n",
        "file_path = 'input_unbounded_4d.csv'\n",
        "with open(file_path, 'r') as file:\n",
        "    # Create a CSV reader object\n",
        "    csv_reader = csv.reader(file)\n",
        "\n",
        "    # Iterate through each row in the CSV file\n",
        "    for row in csv_reader:\n",
        "        # Each row is a list of values\n",
        "        data2.append(row)"
      ],
      "metadata": {
        "id": "OvnJaeq-e2mw"
      },
      "execution_count": null,
      "outputs": []
    },
    {
      "cell_type": "code",
      "source": [],
      "metadata": {
        "id": "YMV8qIto-XPG"
      },
      "execution_count": null,
      "outputs": []
    },
    {
      "cell_type": "code",
      "source": [
        "#Converting char data to int\n",
        "data=[]\n",
        "for i in data2:\n",
        "    l=[]\n",
        "    for j in i:\n",
        "        l.append(float(j))\n",
        "    data.append(l)\n",
        "\n",
        "z=data[0][0:-1]\n",
        "c=data[1][0:-1]\n",
        "data1=data[2:]\n",
        "\n",
        "a=[]\n",
        "b=[]\n",
        "for i in data1:\n",
        "    a.append(i[:-1])\n",
        "    b.append(i[-1])\n",
        "\n",
        "m=len(a)\n",
        "n=len(a[0])\n",
        "a=np.array(a)\n",
        "b=np.array(b)\n",
        "z=np.array(z)\n"
      ],
      "metadata": {
        "id": "LRRO_HvJ9vCt"
      },
      "execution_count": null,
      "outputs": []
    },
    {
      "cell_type": "code",
      "source": [
        "z=np.array([26,0,0])"
      ],
      "metadata": {
        "id": "D8oGf2CC-xzr"
      },
      "execution_count": null,
      "outputs": []
    },
    {
      "cell_type": "code",
      "source": [
        "b"
      ],
      "metadata": {
        "colab": {
          "base_uri": "https://localhost:8080/"
        },
        "id": "GiqzC_yr9CLL",
        "outputId": "cf25dd8b-eeca-476d-f22d-25f2f23a52f6"
      },
      "execution_count": null,
      "outputs": [
        {
          "output_type": "execute_result",
          "data": {
            "text/plain": [
              "array([  0.,  10.,  10., -25.])"
            ]
          },
          "metadata": {},
          "execution_count": 71
        }
      ]
    },
    {
      "cell_type": "code",
      "source": [
        "a"
      ],
      "metadata": {
        "id": "gyTv8xIae2a0",
        "colab": {
          "base_uri": "https://localhost:8080/"
        },
        "outputId": "37c8ff61-d10f-4197-cef4-74d6e3268d94"
      },
      "execution_count": null,
      "outputs": [
        {
          "output_type": "execute_result",
          "data": {
            "text/plain": [
              "array([[-1., -1., -1.],\n",
              "       [ 0.,  1.,  1.],\n",
              "       [ 0.,  0., -1.],\n",
              "       [-1.,  0., -1.]])"
            ]
          },
          "metadata": {},
          "execution_count": 72
        }
      ]
    },
    {
      "cell_type": "code",
      "execution_count": null,
      "metadata": {
        "id": "gKrtQMxzS3Ce"
      },
      "outputs": [],
      "source": [
        "#Checking the feasility\n",
        "def point_in_region(a,b,x):\n",
        "    return a @ x <= b\n",
        "\n",
        "def step1(a,b,z):\n",
        "    check=point_in_region(a,b,z)\n",
        "    for i in check:\n",
        "        if not i:\n",
        "            return False\n",
        "    return True"
      ]
    },
    {
      "cell_type": "code",
      "source": [
        "step1(a,b,z)"
      ],
      "metadata": {
        "id": "nNEGSeuBg2T6",
        "colab": {
          "base_uri": "https://localhost:8080/"
        },
        "outputId": "d2615ac4-7e43-48d3-c944-53c27b536c6f"
      },
      "execution_count": null,
      "outputs": [
        {
          "output_type": "execute_result",
          "data": {
            "text/plain": [
              "True"
            ]
          },
          "metadata": {},
          "execution_count": 74
        }
      ]
    },
    {
      "cell_type": "code",
      "source": [
        "#counting the tight rows\n",
        "\n",
        "def no_of_tight(a,b,x):\n",
        "    tight_count=0\n",
        "    for i in range(len(a)):\n",
        "        if round(a[i] @ x.T,4) ==round(b[i],4):\n",
        "            tight_count+=1\n",
        "    return tight_count"
      ],
      "metadata": {
        "id": "d4gdA8LLS6Ad"
      },
      "execution_count": null,
      "outputs": []
    },
    {
      "cell_type": "code",
      "source": [
        "#checking whether we are at a vertex\n",
        "\n",
        "def check_vertex(a1):\n",
        "    if len(a1)==0:\n",
        "        return False\n",
        "    if np.linalg.matrix_rank(a1)==n:\n",
        "        return True\n",
        "    else:\n",
        "        return False"
      ],
      "metadata": {
        "id": "LUdIbAGcUZpN"
      },
      "execution_count": null,
      "outputs": []
    },
    {
      "cell_type": "code",
      "source": [
        "#split the matrix based on tight rows and untight rows\n",
        "\n",
        "def spliting_matrix(a,b,x):\n",
        "    a1=[]\n",
        "    a2=[]\n",
        "    b1=[]\n",
        "    b2=[]\n",
        "    #print(a)\n",
        "    for i in range(a.shape[0]):\n",
        "        # print(\"%%%%%%%%%%%%%%%%%\")\n",
        "        # print(a[i])\n",
        "        # print(b[i])\n",
        "        # print(a[i]@x.T)\n",
        "        # print(\"#############\")\n",
        "        if round(a[i] @ x.T,4) ==round(b[i],4):\n",
        "            a1.append(a[i])\n",
        "            b1.append(b[i])\n",
        "        else:\n",
        "            a2.append(a[i])\n",
        "            b2.append(b[i])\n",
        "    a1=np.array(a1)\n",
        "    a2=np.array(a2)\n",
        "    b1=np.array(b1)\n",
        "    b2=np.array(b2)\n",
        "    return a1,a2,b1,b2"
      ],
      "metadata": {
        "id": "8YAE0bAuVytY"
      },
      "execution_count": null,
      "outputs": []
    },
    {
      "cell_type": "code",
      "source": [
        "def replace_zero(ar):\n",
        "  eps = 0.0000000000000001\n",
        "  count = 0\n",
        "  for i in ar:\n",
        "    if(i == 0):\n",
        "      i = eps\n",
        "      ar[count] = i\n",
        "    count+=1\n",
        "  return ar"
      ],
      "metadata": {
        "id": "5dIv1tBXjQPQ"
      },
      "execution_count": null,
      "outputs": []
    },
    {
      "cell_type": "code",
      "source": [],
      "metadata": {
        "id": "iI9r_cyijSd0"
      },
      "execution_count": null,
      "outputs": []
    },
    {
      "cell_type": "code",
      "source": [
        "#reaching a vertex\n",
        "#Step 2\n",
        "def step2(a,b,x):\n",
        "    tight_rows=no_of_tight(a,b,x)\n",
        "    a1,a2,b1,b2=spliting_matrix(a,b,x)\n",
        "\n",
        "    while not check_vertex(a1):\n",
        "\n",
        "        if len(a1)==0:\n",
        "            a1=np.array([]).reshape((0, n))\n",
        "\n",
        "        u = np.array(Matrix(a1).nullspace()).astype(float)\n",
        "        u = u.flatten()\n",
        "        u = np.reshape(u, (-1, n))\n",
        "        u_hat = u / np.linalg.norm(u,axis=1,keepdims=True)\n",
        "        u_hat=u_hat[0]\n",
        "\n",
        "        dino = (np.dot(a2 , u_hat))\n",
        "\n",
        "        dino = replace_zero(dino)\n",
        "\n",
        "        alpha  = (b2 -np.dot(a2,x.T) )/ dino.T\n",
        "        # print(\"alpha\",alpha)\n",
        "        alpha = [i for i in alpha if abs(i)<= 1e+15 and abs(i)!=0]\n",
        "        alpha_1 = []\n",
        "        # removing -ve alphas\n",
        "        for aa in alpha:\n",
        "            if aa > 0:\n",
        "                alpha_1.append(aa)\n",
        "\n",
        "        # print(\"alpha_1\",alpha_1)\n",
        "        # taking min of alphas\n",
        "        if len(alpha_1) == 0:\n",
        "          alpha_1 = max(alpha)\n",
        "        else:\n",
        "          alpha_1 = min(alpha_1)\n",
        "        # print(\"alpha_1_1\",alpha_1)\n",
        "        u_hat = u_hat.T\n",
        "        x = x + alpha_1 * u_hat\n",
        "        # print(\"x\",x)\n",
        "        a1,a2,b1,b2=spliting_matrix(a,b,x)\n",
        "    return x"
      ],
      "metadata": {
        "id": "_qR2ULfqWNG-"
      },
      "execution_count": null,
      "outputs": []
    },
    {
      "cell_type": "code",
      "source": [
        "step2(a,b,z)"
      ],
      "metadata": {
        "id": "DAE_HsHLjYD9",
        "colab": {
          "base_uri": "https://localhost:8080/"
        },
        "outputId": "87cfe9c3-64cb-43d4-89d3-8b4f7dd4aa79"
      },
      "execution_count": null,
      "outputs": [
        {
          "output_type": "execute_result",
          "data": {
            "text/plain": [
              "array([-10., -25.,  35.])"
            ]
          },
          "metadata": {},
          "execution_count": 80
        }
      ]
    },
    {
      "cell_type": "code",
      "source": [
        "#checking whether current point is an optimum\n",
        "def check_optimum(a1,c):\n",
        "    # print(a1)\n",
        "    alphas=np.linalg.solve(a1.T, c)\n",
        "    # print(alphas)\n",
        "    for i in alphas:\n",
        "        if i<0:\n",
        "            return False\n",
        "    return True"
      ],
      "metadata": {
        "id": "fHA3QtaXbzcc"
      },
      "execution_count": null,
      "outputs": []
    },
    {
      "cell_type": "code",
      "source": [
        "#Function to get optimum point\n",
        "#Step 3\n",
        "def step3(a,b,x,c):\n",
        "\n",
        "    a1,a2,b1,b2=spliting_matrix(a,b,x)\n",
        "    # print(\"------------------------------------------\")\n",
        "    # print(\"a1\",a1)\n",
        "    # print(\"hello\")\n",
        "    # print(\"c\",c)\n",
        "    while not check_optimum(a1,c):\n",
        "        # print(\"a1\",a1)\n",
        "        # print(a1.shape)\n",
        "        # print(c.shape)\n",
        "        print(\"****************************************\")\n",
        "        print(\"Present Vertex point= \",x)\n",
        "        a1i=np.linalg.inv(a1).T\n",
        "        print(a1)\n",
        "        alphas=np.linalg.solve(a1.T, c)\n",
        "          # print(alphas)\n",
        "          # print(len(alphas))\n",
        "        u=[]\n",
        "        for i in range(len(alphas)):\n",
        "            if alphas[i] < 0:\n",
        "                u=a1i[i]\n",
        "                break\n",
        "        u=np.array(u)\n",
        "        u=-1*u\n",
        "        u=u.T\n",
        "        dino = np.dot(a2 , u)\n",
        "\n",
        "        dino = replace_zero(dino)\n",
        "\n",
        "        alpha  = (b2 -np.dot(a2,x.T) )/ dino\n",
        "          # print(\"--------------\")\n",
        "          # print(\"prev alpha\",alpha)\n",
        "          #alpha = alpha[0]\n",
        "        alpha_1 = []\n",
        "          # removing -ve alphas\n",
        "        cnt = 0\n",
        "        for aa in alpha:\n",
        "            if aa > 0:\n",
        "                cnt+=1\n",
        "                alpha_1.append(aa)\n",
        "\n",
        "        if(len(alpha_1) == 0):\n",
        "          print(\"Unbounded result Optimum cannot be found !!\")\n",
        "          return []\n",
        "\n",
        "          # taking min of alphas\n",
        "        alpha_1 = min(alpha_1)\n",
        "        u_hat = u.T\n",
        "          # print(\"alpha_1\",alpha_1)\n",
        "          # print(\"prev x\",x)\n",
        "        x = x + alpha_1 * u_hat\n",
        "\n",
        "          # print(\"x=\",x)\n",
        "        a1,a2,b1,b2=spliting_matrix(a,b,x)\n",
        "        # print(\"------------\")\n",
        "        # print(\"a1\",a1)\n",
        "        # print(\"------------\")\n",
        "    return x"
      ],
      "metadata": {
        "id": "Kc4iXswWcAFm"
      },
      "execution_count": null,
      "outputs": []
    },
    {
      "cell_type": "code",
      "source": [
        "if step1(a,b,z):\n",
        "  res = step3(a,b,step2(a,b,z),c)\n",
        "  print(\"Optimum point\",res)\n",
        "else:\n",
        "  print(\"Given point is not feasible\")"
      ],
      "metadata": {
        "id": "ndyRzJTJjZlN",
        "colab": {
          "base_uri": "https://localhost:8080/"
        },
        "outputId": "af761b3c-95b5-42fe-f5a2-bec5281d8cee"
      },
      "execution_count": null,
      "outputs": [
        {
          "output_type": "stream",
          "name": "stdout",
          "text": [
            "[[-1. -1. -1.]\n",
            " [ 0.  1.  1.]\n",
            " [-1.  0. -1.]]\n",
            "****************************************\n",
            "Present Vertex point=  [-10. -25.  35.]\n",
            "[[-1. -1. -1.]\n",
            " [ 0.  1.  1.]\n",
            " [-1.  0. -1.]]\n",
            "Unbounded result Optimum cannot be found !!\n",
            "Optimum point []\n"
          ]
        }
      ]
    },
    {
      "cell_type": "code",
      "source": [],
      "metadata": {
        "id": "cCDzsszXjZhy"
      },
      "execution_count": null,
      "outputs": []
    },
    {
      "cell_type": "code",
      "source": [],
      "metadata": {
        "id": "6q9GLF0Y-lvt"
      },
      "execution_count": null,
      "outputs": []
    }
  ]
}