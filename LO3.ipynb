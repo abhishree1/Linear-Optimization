{
  "nbformat": 4,
  "nbformat_minor": 0,
  "metadata": {
    "colab": {
      "provenance": []
    },
    "kernelspec": {
      "name": "python3",
      "display_name": "Python 3"
    },
    "language_info": {
      "name": "python"
    }
  },
  "cells": [
    {
      "cell_type": "markdown",
      "source": [
        "Team members\n",
        "\n",
        "*   cs23mtech11030 - Parasa Naga Venkata Pavan\n",
        "*   cs23mtech11021 - Abhishree Gajanan Khangar\n",
        "*   cs23mtech11032 - Pulicharla Punith Kumar\n",
        "*   cs23mtech11003 - Apurba Saha\n",
        "\n",
        "\n",
        "\n",
        "\n"
      ],
      "metadata": {
        "id": "NGyFvTayMJl1"
      }
    },
    {
      "cell_type": "code",
      "source": [
        "import numpy as np\n",
        "import pandas as pd\n",
        "from sympy import *\n",
        "import random"
      ],
      "metadata": {
        "id": "Xnr9tLQxf2te"
      },
      "execution_count": null,
      "outputs": []
    },
    {
      "cell_type": "code",
      "source": [
        "#importing data from csv file\n",
        "data = pd.read_csv('/content/4_case.csv', header=None)\n",
        "\n",
        "global flg\n",
        "z = data.loc[0]\n",
        "z = z[:-1]\n",
        "z = np.array(z)\n",
        "\n",
        "c = data.loc[1]\n",
        "c = c[:-1]\n",
        "c = np.array(c)\n",
        "\n",
        "b = data.iloc[2:, -1].values\n",
        "b =np.array(b)\n",
        "\n",
        "a = data.iloc[2:,:-1]\n",
        "a = np.array(a)\n",
        "\n",
        "m=len(a)\n",
        "n=len(a[0])\n",
        "\n",
        "b1_ = {}\n",
        "for i in range(len(a)):\n",
        "    b1_[tuple(a[i])] = b[i]\n",
        "\n",
        "flg =False"
      ],
      "metadata": {
        "id": "OvnJaeq-e2mw"
      },
      "execution_count": null,
      "outputs": []
    },
    {
      "cell_type": "code",
      "source": [
        "print(\"data \\n\",data)"
      ],
      "metadata": {
        "id": "Hiw4QMvBO82S",
        "outputId": "08746024-6408-450c-de69-ffaed3bc4250",
        "colab": {
          "base_uri": "https://localhost:8080/"
        }
      },
      "execution_count": null,
      "outputs": [
        {
          "output_type": "stream",
          "name": "stdout",
          "text": [
            "data \n",
            "    0    1    2  3\n",
            "0 -1  0.0  0.0  0\n",
            "1  0  0.7  0.5  0\n",
            "2  1 -2.0 -2.0  0\n",
            "3  1 -1.0  1.0  1\n",
            "4  1 -1.0 -1.0 -1\n",
            "5  1 -1.0  0.0  0\n",
            "6  1  0.0 -1.0  0\n",
            "7 -1  0.0  0.0  1\n"
          ]
        }
      ]
    },
    {
      "cell_type": "code",
      "source": [
        "# z=np.array([0,0,-1])"
      ],
      "metadata": {
        "id": "yYSktInmoWPh"
      },
      "execution_count": null,
      "outputs": []
    },
    {
      "cell_type": "code",
      "execution_count": null,
      "metadata": {
        "id": "gKrtQMxzS3Ce"
      },
      "outputs": [],
      "source": [
        "#Checking the feasility\n",
        "#Step 1\n",
        "def point_in_region(a,b,x):\n",
        "    return a @ x <= b\n",
        "\n",
        "def step1(a,b,z):\n",
        "    check=point_in_region(a,b,z)\n",
        "    for i in check:\n",
        "        if not i:\n",
        "            return False\n",
        "    return True"
      ]
    },
    {
      "cell_type": "code",
      "source": [
        "step1(a,b,z)"
      ],
      "metadata": {
        "colab": {
          "base_uri": "https://localhost:8080/"
        },
        "id": "9tHUnERIoKE6",
        "outputId": "b9248789-2481-4fc3-9780-67e4065f97e6"
      },
      "execution_count": null,
      "outputs": [
        {
          "output_type": "execute_result",
          "data": {
            "text/plain": [
              "True"
            ]
          },
          "metadata": {},
          "execution_count": 10
        }
      ]
    },
    {
      "cell_type": "code",
      "source": [
        "#counting the tight rows\n",
        "\n",
        "def no_of_tight(a,b,x):\n",
        "    tight_count=0\n",
        "    for i in range(len(a)):\n",
        "        if round(a[i] @ x.T,4) ==round(b[i],4):\n",
        "            tight_count+=1\n",
        "    return tight_count"
      ],
      "metadata": {
        "id": "d4gdA8LLS6Ad"
      },
      "execution_count": null,
      "outputs": []
    },
    {
      "cell_type": "code",
      "source": [
        "#checking whether we are at a vertex\n",
        "\n",
        "def check_vertex(a1):\n",
        "    if len(a1)==0:\n",
        "        return False\n",
        "    if np.linalg.matrix_rank(a1)==n:\n",
        "        return True\n",
        "    else:\n",
        "        return False"
      ],
      "metadata": {
        "id": "LUdIbAGcUZpN"
      },
      "execution_count": null,
      "outputs": []
    },
    {
      "cell_type": "code",
      "source": [
        "#split the matrix based on tight rows and untight rows\n",
        "\n",
        "def spliting_matrix(a,b,x):\n",
        "    a1=[]\n",
        "    a2=[]\n",
        "    b1=[]\n",
        "    b2=[]\n",
        "    #print(a)\n",
        "    for i in range(a.shape[0]):\n",
        "        # print(\"%%%%%%%%%%%%%%%%%\")\n",
        "        # print(a[i])\n",
        "        # print(b[i])\n",
        "        # print(a[i]@x.T)\n",
        "        # print(\"#############\")\n",
        "        if round(a[i] @ x.T,4) ==round(b[i],4):\n",
        "            a1.append(a[i])\n",
        "            b1.append(b[i])\n",
        "        else:\n",
        "            a2.append(a[i])\n",
        "            b2.append(b[i])\n",
        "    a1=np.array(a1)\n",
        "    a2=np.array(a2)\n",
        "    b1=np.array(b1)\n",
        "    b2=np.array(b2)\n",
        "    return a1,a2,b1,b2"
      ],
      "metadata": {
        "id": "8YAE0bAuVytY"
      },
      "execution_count": null,
      "outputs": []
    },
    {
      "cell_type": "code",
      "source": [
        "def replace_zero(ar):\n",
        "  eps = 0.0000000000000001\n",
        "  count = 0\n",
        "  for i in ar:\n",
        "    if(i == 0):\n",
        "      i = eps\n",
        "      ar[count] = i\n",
        "    count+=1\n",
        "  return ar"
      ],
      "metadata": {
        "id": "5dIv1tBXjQPQ"
      },
      "execution_count": null,
      "outputs": []
    },
    {
      "cell_type": "code",
      "source": [
        "#function to add small values in b vector\n",
        "def add_small_values(b, value):\n",
        "    result = b.copy()\n",
        "    for i in range(len(result)):\n",
        "        result[i] = float(result[i]) + value ** (i+1)\n",
        "    return result"
      ],
      "metadata": {
        "id": "iI9r_cyijSd0"
      },
      "execution_count": null,
      "outputs": []
    },
    {
      "cell_type": "code",
      "source": [
        "#reaching a vertex\n",
        "#Step 2\n",
        "def step2(a,b,x):\n",
        "    global flg\n",
        "    b_dub=b\n",
        "    cnt=0\n",
        "    gamma=0.1\n",
        "    tight_rows=no_of_tight(a,b,x)\n",
        "    a1,a2,b1,b2=spliting_matrix(a,b,x)\n",
        "\n",
        "    while not check_vertex(a1):\n",
        "        cnt+=1\n",
        "        if len(a1)==0:\n",
        "            a1=np.array([]).reshape((0, n))\n",
        "\n",
        "        u = np.array(Matrix(a1).nullspace()).astype(float)\n",
        "        u = u.flatten()\n",
        "        u = np.reshape(u, (-1, n))\n",
        "        u_hat = u / np.linalg.norm(u,axis=1,keepdims=True)\n",
        "        u_hat=u_hat[0]\n",
        "\n",
        "        dino = (np.dot(a2 , u_hat))\n",
        "\n",
        "        dino = replace_zero(dino)\n",
        "\n",
        "        alpha  = (b2 -np.dot(a2,x.T) )/ dino.T\n",
        "        # print(\"alpha\",alpha)\n",
        "        alpha = [i for i in alpha if abs(i)<= 1e+15 and abs(i)!=0]\n",
        "        alpha_1 = []\n",
        "        # removing -ve alphas\n",
        "        for aa in alpha:\n",
        "            if aa > 0:\n",
        "                alpha_1.append(aa)\n",
        "\n",
        "        # print(\"alpha_1\",alpha_1)\n",
        "        # taking min of alphas\n",
        "        if len(alpha_1) == 0:\n",
        "          alpha_1 = max(alpha)\n",
        "        else:\n",
        "          alpha_1 = min(alpha_1)\n",
        "        # print(\"alpha_1_1\",alpha_1)\n",
        "        u_hat = u_hat.T\n",
        "        x = x + alpha_1 * u_hat\n",
        "        # print(\"x\",x)\n",
        "        a1,a2,b1,b2=spliting_matrix(a,b,x)\n",
        "        if(cnt==100):\n",
        "          # gamma=round(gamma+0.1,2)\n",
        "          cnt=0\n",
        "          # print(\"Gamma\",gamma)\n",
        "          tight_rows=no_of_tight(a,b,x)\n",
        "          a1,a2,b1,b2=spliting_matrix(a,b,x)\n",
        "          # print(\"after gamma a=\",a)\n",
        "          # print(\"after gamma b\",b)\n",
        "          # print(\"after gamma x\",x)\n",
        "          # print(\"after gamma c\",)\n",
        "\n",
        "    if(no_of_tight(a1,b1,x)>n):\n",
        "      print(\"Handling Degeneration\")\n",
        "      t=np.array(b).astype(float)\n",
        "      b=add_small_values(t,gamma)\n",
        "      # print(\"Non deg\",b)\n",
        "      gamma=gamma/2\n",
        "      b,x=step2(a,b,z)\n",
        "      # print(\"new x\",x)\n",
        "      flg=True\n",
        "      a1,a2,b1,b2=spliting_matrix(a,b,x)\n",
        "    elif((no_of_tight(a1,b1,x)==n) and (np.linalg.matrix_rank(a1)==n) ):\n",
        "      # print(\"a1\",a1.shape)\n",
        "      # print(\"b\",b)\n",
        "      return b,x\n",
        "    # print(\"a1\",a1.shape)\n",
        "    # print(\"b\",b)\n",
        "    return b,x"
      ],
      "metadata": {
        "id": "kkdW1_q4psIi"
      },
      "execution_count": null,
      "outputs": []
    },
    {
      "cell_type": "code",
      "source": [
        "# step2(a,b,z)"
      ],
      "metadata": {
        "id": "qZO7rzQgRa7Q"
      },
      "execution_count": null,
      "outputs": []
    },
    {
      "cell_type": "code",
      "source": [
        "#checking whether current point is an optimum\n",
        "def check_optimum(a1,c):\n",
        "    # print(\"inside op\")\n",
        "    # print(\"a1\",a1)\n",
        "    # print(\"c\",c)\n",
        "    # print(a1.shape)\n",
        "    # print(c.shape)\n",
        "    # print(\"----------------\")\n",
        "    alphas=np.linalg.solve(a1.T, c)\n",
        "    #print(alphas)\n",
        "    for i in alphas:\n",
        "        if i<0:\n",
        "            return false\n",
        "    return True"
      ],
      "metadata": {
        "id": "fHA3QtaXbzcc"
      },
      "execution_count": null,
      "outputs": []
    },
    {
      "cell_type": "code",
      "source": [],
      "metadata": {
        "id": "mXpWfIjVT4gF"
      },
      "execution_count": null,
      "outputs": []
    },
    {
      "cell_type": "code",
      "source": [
        "#Function to get optimum point\n",
        "#Step 3\n",
        "def step3(a,b,x,c):\n",
        "    global flg\n",
        "    cnt = 0\n",
        "    gamma=0.1\n",
        "    # print(\"a=\",a)\n",
        "    # print(\"b\",b)\n",
        "    # print(\"x\",x)\n",
        "    # print(\"c\",)\n",
        "    a1,a2,b1,b2=spliting_matrix(a,b,x)\n",
        "    # print(\"------------------------------------------\")\n",
        "    # print(\"a1\",a1)\n",
        "    # print(\"hello\")\n",
        "    # print(\"c\",c)\n",
        "    while not check_optimum(a1,c):\n",
        "        # print(\"a1\",a1)\n",
        "        # print(a1.shape)\n",
        "        # print(c.shape)\n",
        "        if((np.linalg.matrix_rank(a1)>=n) and (no_of_tight(a1,b1,x)==n)):\n",
        "          print(\"****************************************\")\n",
        "          print(\"Present Vertex point= \",x)\n",
        "          a1i=np.linalg.inv(a1).T\n",
        "          alphas=np.linalg.solve(a1.T, c)\n",
        "          # print(alphas)\n",
        "          # print(len(alphas))\n",
        "          u=[]\n",
        "          for i in range(len(alphas)):\n",
        "              if alphas[i] < 0:\n",
        "                  u=a1i[i]\n",
        "                  break\n",
        "          u=np.array(u)\n",
        "          u=-1*u\n",
        "          u=u.T\n",
        "          dino = np.dot(a2 , u)\n",
        "\n",
        "          dino = replace_zero(dino)\n",
        "\n",
        "          alpha  = (b2 -np.dot(a2,x.T) )/ dino\n",
        "          # print(\"--------------\")\n",
        "          # print(\"prev alpha\",alpha)\n",
        "          #alpha = alpha[0]\n",
        "          alpha_1 = []\n",
        "          # removing -ve alphas\n",
        "          cnt = 0\n",
        "          for aa in alpha:\n",
        "              if aa > 0:\n",
        "                  cnt+=1\n",
        "                  alpha_1.append(aa)\n",
        "\n",
        "          if(len(alpha_1) == 0):\n",
        "            print(\"Unbounded result Optimum cannot be found !!\")\n",
        "            return []\n",
        "\n",
        "          # taking min of alphas\n",
        "          alpha_1 = min(alpha_1)\n",
        "          u_hat = u.T\n",
        "          # print(\"alpha_1\",alpha_1)\n",
        "          # print(\"prev x\",x)\n",
        "          x = x + alpha_1 * u_hat\n",
        "\n",
        "          # print(\"x=\",x)\n",
        "        elif (no_of_tight(a1,b1,x)>n):\n",
        "            print(\"Handling Degeneration\")\n",
        "            b=add_small_values(b,gamma)\n",
        "            gamma=gamma/2\n",
        "            x=step2(a,b,z)\n",
        "            flg=True\n",
        "        # print(\"b\",b)\n",
        "        a1,a2,b1,b2=spliting_matrix(a,b,x)\n",
        "        # print(\"------------\")\n",
        "        # print(\"a1\",a1)\n",
        "        # print(\"------------\")\n",
        "\n",
        "    k_tuple = tuple(map(tuple, a1))\n",
        "    for i in k_tuple:\n",
        "      b1_final.append(b1_.get(i))\n",
        "    if flg:\n",
        "      # print(\"a1\",a1)\n",
        "      # print(\"b1\",b1)\n",
        "      #return step2(a1,b1_final,z)[1]\n",
        "      # print(\"hhhhhhhhhhhhhhhhh\")\n",
        "      # print(a1)\n",
        "      # print(b1_final)\n",
        "      return np.linalg.solve(a1,b1_final)\n",
        "\n",
        "    else:\n",
        "      return x"
      ],
      "metadata": {
        "id": "Kc4iXswWcAFm"
      },
      "execution_count": null,
      "outputs": []
    },
    {
      "cell_type": "code",
      "source": [],
      "metadata": {
        "id": "0bzOhTBZqhVD"
      },
      "execution_count": null,
      "outputs": []
    },
    {
      "cell_type": "code",
      "source": [
        "if step1(a,b,z):\n",
        "  b1_final=[]\n",
        "  step2_res = step2(a,b,z)\n",
        "  res = step3(a,step2_res[0],step2_res[1],c)\n",
        "  print(\"Optimum point:\",res)\n",
        "else:\n",
        "  print(\"Given point is not feasible.\")"
      ],
      "metadata": {
        "id": "ndyRzJTJjZlN",
        "colab": {
          "base_uri": "https://localhost:8080/"
        },
        "outputId": "200255e4-7cb3-49f5-88d4-282dd59c9a7e"
      },
      "execution_count": null,
      "outputs": [
        {
          "output_type": "stream",
          "name": "stdout",
          "text": [
            "Handling Degeneration\n",
            "****************************************\n",
            "Present Vertex point=  [-1.     -1.0001  0.9991]\n",
            "****************************************\n",
            "Present Vertex point=  [-1.     -1.0001  1.0099]\n",
            "Unbounded result Optimum cannot be found !!\n",
            "Optimum point: []\n"
          ]
        }
      ]
    },
    {
      "cell_type": "code",
      "source": [],
      "metadata": {
        "id": "P6y23-wslVd-"
      },
      "execution_count": null,
      "outputs": []
    },
    {
      "cell_type": "code",
      "source": [],
      "metadata": {
        "id": "bQdMgq2ABZdw"
      },
      "execution_count": null,
      "outputs": []
    }
  ]
}