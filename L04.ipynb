{
  "nbformat": 4,
  "nbformat_minor": 0,
  "metadata": {
    "colab": {
      "provenance": []
    },
    "kernelspec": {
      "name": "python3",
      "display_name": "Python 3"
    },
    "language_info": {
      "name": "python"
    }
  },
  "cells": [
    {
      "cell_type": "markdown",
      "source": [
        "#**Importing the libraries and reading the given input data**"
      ],
      "metadata": {
        "id": "kVd8AwQpJgab"
      }
    },
    {
      "cell_type": "code",
      "execution_count": null,
      "metadata": {
        "id": "a62dd3b1"
      },
      "outputs": [],
      "source": [
        "import numpy as np\n",
        "import pandas as pd\n",
        "from sympy import *\n",
        "import random"
      ]
    },
    {
      "cell_type": "code",
      "execution_count": null,
      "metadata": {
        "id": "e0a7b803"
      },
      "outputs": [],
      "source": [
        "#importing data from csv file\n",
        "data = pd.read_csv('/content/newtest9_2.csv', header=None)\n",
        "\n",
        "global flg\n",
        "c = data.loc[0]\n",
        "c = c[:-1]\n",
        "c = np.array(c)\n",
        "\n",
        "b = data.iloc[1:, -1].values\n",
        "b =np.array(b)\n",
        "\n",
        "a = data.iloc[1:,:-1]\n",
        "a = np.array(a)\n",
        "\n",
        "m=len(a)\n",
        "n=len(a[0])\n",
        "\n",
        "b1_ = {}\n",
        "for i in range(len(a)):\n",
        "    b1_[tuple(a[i])] = b[i]\n",
        "\n",
        "flg =False"
      ]
    },
    {
      "cell_type": "code",
      "source": [
        "a"
      ],
      "metadata": {
        "colab": {
          "base_uri": "https://localhost:8080/"
        },
        "id": "xvToWdgjFZRj",
        "outputId": "f2861066-4a89-49e8-93ce-3999501d2383"
      },
      "execution_count": null,
      "outputs": [
        {
          "output_type": "execute_result",
          "data": {
            "text/plain": [
              "array([[-2., -2.],\n",
              "       [-1.,  1.],\n",
              "       [-1., -1.],\n",
              "       [-1.,  0.],\n",
              "       [ 0., -1.]])"
            ]
          },
          "metadata": {},
          "execution_count": 104
        }
      ]
    },
    {
      "cell_type": "code",
      "execution_count": null,
      "metadata": {
        "colab": {
          "base_uri": "https://localhost:8080/"
        },
        "id": "8a0d06f5",
        "outputId": "fe6e03c7-21e8-4ad5-df71-006fb7ac3770"
      },
      "outputs": [
        {
          "output_type": "stream",
          "name": "stdout",
          "text": [
            "data \n",
            "      0    1  2\n",
            "0  0.7  0.5  0\n",
            "1 -2.0 -2.0  0\n",
            "2 -1.0  1.0  1\n",
            "3 -1.0 -1.0 -1\n",
            "4 -1.0  0.0  0\n",
            "5  0.0 -1.0  0\n"
          ]
        }
      ],
      "source": [
        "print(\"data \\n\",data)"
      ]
    },
    {
      "cell_type": "code",
      "execution_count": null,
      "metadata": {
        "id": "e6af17ef",
        "colab": {
          "base_uri": "https://localhost:8080/"
        },
        "outputId": "1b60e5a9-a758-494c-d845-8ecc04f22052"
      },
      "outputs": [
        {
          "output_type": "execute_result",
          "data": {
            "text/plain": [
              "array([ 0,  1, -1,  0,  0])"
            ]
          },
          "metadata": {},
          "execution_count": 106
        }
      ],
      "source": [
        "b"
      ]
    },
    {
      "cell_type": "code",
      "execution_count": null,
      "metadata": {
        "colab": {
          "base_uri": "https://localhost:8080/"
        },
        "id": "674c555b",
        "outputId": "7df6f0ae-8bb8-471e-cf9f-78a69d30b3c5"
      },
      "outputs": [
        {
          "output_type": "execute_result",
          "data": {
            "text/plain": [
              "array([0.7, 0.5])"
            ]
          },
          "metadata": {},
          "execution_count": 107
        }
      ],
      "source": [
        "c"
      ]
    },
    {
      "cell_type": "code",
      "execution_count": null,
      "metadata": {
        "id": "77a62142"
      },
      "outputs": [],
      "source": [
        "m=len(a)\n",
        "n=len(a[0])"
      ]
    },
    {
      "cell_type": "markdown",
      "source": [
        "#**Finding a feasible point**"
      ],
      "metadata": {
        "id": "hHwLQ0_5U_yS"
      }
    },
    {
      "cell_type": "code",
      "source": [
        "cnt =0\n",
        "\n",
        "for i in b:\n",
        "  if i<0:\n",
        "    cnt+=1\n",
        "\n",
        "z = np.zeros(n)\n",
        "\n",
        "flag = False\n",
        "if cnt!=0:\n",
        "  flag=True\n",
        "  z = np.append(min(b),z)\n"
      ],
      "metadata": {
        "id": "iYb5RXzCVEQh"
      },
      "execution_count": null,
      "outputs": []
    },
    {
      "cell_type": "code",
      "source": [
        "new_arr = []\n",
        "if flag:\n",
        "  for i in a:\n",
        "    k = np.array([1])\n",
        "    i = np.append(k,i)\n",
        "    new_arr.append(i)\n",
        "  k=np.array([-1])\n",
        "  k = np.append(k,np.zeros(n))\n",
        "  new_arr.append(k)\n",
        "  a = new_arr\n",
        "  b = np.append(b,abs(min(b)))\n",
        "  c = np.append(0,c)\n",
        "  a = np.array(a)\n",
        "  c = np.append(c,-1)\n",
        "  z= np.array(z)\n",
        "  z = np.append(z,-1)"
      ],
      "metadata": {
        "id": "y6E0pl9cZcUa"
      },
      "execution_count": null,
      "outputs": []
    },
    {
      "cell_type": "code",
      "source": [
        "print(\"*******************************************\")\n",
        "print(\"Feasinle point is :\")\n",
        "print(z)\n",
        "print(\"*******************************************\")"
      ],
      "metadata": {
        "colab": {
          "base_uri": "https://localhost:8080/"
        },
        "id": "UG1HGy-b41bc",
        "outputId": "816be44d-86cf-42b7-bf14-5235c7923491"
      },
      "execution_count": null,
      "outputs": [
        {
          "output_type": "stream",
          "name": "stdout",
          "text": [
            "*******************************************\n",
            "Feasinle point is :\n",
            "[-1.  0.  0.]\n",
            "*******************************************\n"
          ]
        }
      ]
    },
    {
      "cell_type": "code",
      "source": [],
      "metadata": {
        "id": "EcRR45Xz43X7"
      },
      "execution_count": null,
      "outputs": []
    },
    {
      "cell_type": "code",
      "source": [],
      "metadata": {
        "id": "HqI75lC443Ug"
      },
      "execution_count": null,
      "outputs": []
    },
    {
      "cell_type": "code",
      "source": [
        "df1 = pd.DataFrame([z,c])\n",
        "df1"
      ],
      "metadata": {
        "id": "DR6LaeXzc7qG",
        "colab": {
          "base_uri": "https://localhost:8080/",
          "height": 112
        },
        "outputId": "45ec35e4-6da9-4bc1-ce75-354c646b53af"
      },
      "execution_count": null,
      "outputs": [
        {
          "output_type": "execute_result",
          "data": {
            "text/plain": [
              "     0    1    2    3\n",
              "0 -1.0  0.0  0.0 -1.0\n",
              "1  0.0  0.7  0.5 -1.0"
            ],
            "text/html": [
              "\n",
              "  <div id=\"df-9485c04f-4b40-4f26-a44a-21fe66c3e27c\" class=\"colab-df-container\">\n",
              "    <div>\n",
              "<style scoped>\n",
              "    .dataframe tbody tr th:only-of-type {\n",
              "        vertical-align: middle;\n",
              "    }\n",
              "\n",
              "    .dataframe tbody tr th {\n",
              "        vertical-align: top;\n",
              "    }\n",
              "\n",
              "    .dataframe thead th {\n",
              "        text-align: right;\n",
              "    }\n",
              "</style>\n",
              "<table border=\"1\" class=\"dataframe\">\n",
              "  <thead>\n",
              "    <tr style=\"text-align: right;\">\n",
              "      <th></th>\n",
              "      <th>0</th>\n",
              "      <th>1</th>\n",
              "      <th>2</th>\n",
              "      <th>3</th>\n",
              "    </tr>\n",
              "  </thead>\n",
              "  <tbody>\n",
              "    <tr>\n",
              "      <th>0</th>\n",
              "      <td>-1.0</td>\n",
              "      <td>0.0</td>\n",
              "      <td>0.0</td>\n",
              "      <td>-1.0</td>\n",
              "    </tr>\n",
              "    <tr>\n",
              "      <th>1</th>\n",
              "      <td>0.0</td>\n",
              "      <td>0.7</td>\n",
              "      <td>0.5</td>\n",
              "      <td>-1.0</td>\n",
              "    </tr>\n",
              "  </tbody>\n",
              "</table>\n",
              "</div>\n",
              "    <div class=\"colab-df-buttons\">\n",
              "\n",
              "  <div class=\"colab-df-container\">\n",
              "    <button class=\"colab-df-convert\" onclick=\"convertToInteractive('df-9485c04f-4b40-4f26-a44a-21fe66c3e27c')\"\n",
              "            title=\"Convert this dataframe to an interactive table.\"\n",
              "            style=\"display:none;\">\n",
              "\n",
              "  <svg xmlns=\"http://www.w3.org/2000/svg\" height=\"24px\" viewBox=\"0 -960 960 960\">\n",
              "    <path d=\"M120-120v-720h720v720H120Zm60-500h600v-160H180v160Zm220 220h160v-160H400v160Zm0 220h160v-160H400v160ZM180-400h160v-160H180v160Zm440 0h160v-160H620v160ZM180-180h160v-160H180v160Zm440 0h160v-160H620v160Z\"/>\n",
              "  </svg>\n",
              "    </button>\n",
              "\n",
              "  <style>\n",
              "    .colab-df-container {\n",
              "      display:flex;\n",
              "      gap: 12px;\n",
              "    }\n",
              "\n",
              "    .colab-df-convert {\n",
              "      background-color: #E8F0FE;\n",
              "      border: none;\n",
              "      border-radius: 50%;\n",
              "      cursor: pointer;\n",
              "      display: none;\n",
              "      fill: #1967D2;\n",
              "      height: 32px;\n",
              "      padding: 0 0 0 0;\n",
              "      width: 32px;\n",
              "    }\n",
              "\n",
              "    .colab-df-convert:hover {\n",
              "      background-color: #E2EBFA;\n",
              "      box-shadow: 0px 1px 2px rgba(60, 64, 67, 0.3), 0px 1px 3px 1px rgba(60, 64, 67, 0.15);\n",
              "      fill: #174EA6;\n",
              "    }\n",
              "\n",
              "    .colab-df-buttons div {\n",
              "      margin-bottom: 4px;\n",
              "    }\n",
              "\n",
              "    [theme=dark] .colab-df-convert {\n",
              "      background-color: #3B4455;\n",
              "      fill: #D2E3FC;\n",
              "    }\n",
              "\n",
              "    [theme=dark] .colab-df-convert:hover {\n",
              "      background-color: #434B5C;\n",
              "      box-shadow: 0px 1px 3px 1px rgba(0, 0, 0, 0.15);\n",
              "      filter: drop-shadow(0px 1px 2px rgba(0, 0, 0, 0.3));\n",
              "      fill: #FFFFFF;\n",
              "    }\n",
              "  </style>\n",
              "\n",
              "    <script>\n",
              "      const buttonEl =\n",
              "        document.querySelector('#df-9485c04f-4b40-4f26-a44a-21fe66c3e27c button.colab-df-convert');\n",
              "      buttonEl.style.display =\n",
              "        google.colab.kernel.accessAllowed ? 'block' : 'none';\n",
              "\n",
              "      async function convertToInteractive(key) {\n",
              "        const element = document.querySelector('#df-9485c04f-4b40-4f26-a44a-21fe66c3e27c');\n",
              "        const dataTable =\n",
              "          await google.colab.kernel.invokeFunction('convertToInteractive',\n",
              "                                                    [key], {});\n",
              "        if (!dataTable) return;\n",
              "\n",
              "        const docLinkHtml = 'Like what you see? Visit the ' +\n",
              "          '<a target=\"_blank\" href=https://colab.research.google.com/notebooks/data_table.ipynb>data table notebook</a>'\n",
              "          + ' to learn more about interactive tables.';\n",
              "        element.innerHTML = '';\n",
              "        dataTable['output_type'] = 'display_data';\n",
              "        await google.colab.output.renderOutput(dataTable, element);\n",
              "        const docLink = document.createElement('div');\n",
              "        docLink.innerHTML = docLinkHtml;\n",
              "        element.appendChild(docLink);\n",
              "      }\n",
              "    </script>\n",
              "  </div>\n",
              "\n",
              "\n",
              "<div id=\"df-d3d0bfc8-4106-4b25-b11c-87e21fbf94f4\">\n",
              "  <button class=\"colab-df-quickchart\" onclick=\"quickchart('df-d3d0bfc8-4106-4b25-b11c-87e21fbf94f4')\"\n",
              "            title=\"Suggest charts\"\n",
              "            style=\"display:none;\">\n",
              "\n",
              "<svg xmlns=\"http://www.w3.org/2000/svg\" height=\"24px\"viewBox=\"0 0 24 24\"\n",
              "     width=\"24px\">\n",
              "    <g>\n",
              "        <path d=\"M19 3H5c-1.1 0-2 .9-2 2v14c0 1.1.9 2 2 2h14c1.1 0 2-.9 2-2V5c0-1.1-.9-2-2-2zM9 17H7v-7h2v7zm4 0h-2V7h2v10zm4 0h-2v-4h2v4z\"/>\n",
              "    </g>\n",
              "</svg>\n",
              "  </button>\n",
              "\n",
              "<style>\n",
              "  .colab-df-quickchart {\n",
              "      --bg-color: #E8F0FE;\n",
              "      --fill-color: #1967D2;\n",
              "      --hover-bg-color: #E2EBFA;\n",
              "      --hover-fill-color: #174EA6;\n",
              "      --disabled-fill-color: #AAA;\n",
              "      --disabled-bg-color: #DDD;\n",
              "  }\n",
              "\n",
              "  [theme=dark] .colab-df-quickchart {\n",
              "      --bg-color: #3B4455;\n",
              "      --fill-color: #D2E3FC;\n",
              "      --hover-bg-color: #434B5C;\n",
              "      --hover-fill-color: #FFFFFF;\n",
              "      --disabled-bg-color: #3B4455;\n",
              "      --disabled-fill-color: #666;\n",
              "  }\n",
              "\n",
              "  .colab-df-quickchart {\n",
              "    background-color: var(--bg-color);\n",
              "    border: none;\n",
              "    border-radius: 50%;\n",
              "    cursor: pointer;\n",
              "    display: none;\n",
              "    fill: var(--fill-color);\n",
              "    height: 32px;\n",
              "    padding: 0;\n",
              "    width: 32px;\n",
              "  }\n",
              "\n",
              "  .colab-df-quickchart:hover {\n",
              "    background-color: var(--hover-bg-color);\n",
              "    box-shadow: 0 1px 2px rgba(60, 64, 67, 0.3), 0 1px 3px 1px rgba(60, 64, 67, 0.15);\n",
              "    fill: var(--button-hover-fill-color);\n",
              "  }\n",
              "\n",
              "  .colab-df-quickchart-complete:disabled,\n",
              "  .colab-df-quickchart-complete:disabled:hover {\n",
              "    background-color: var(--disabled-bg-color);\n",
              "    fill: var(--disabled-fill-color);\n",
              "    box-shadow: none;\n",
              "  }\n",
              "\n",
              "  .colab-df-spinner {\n",
              "    border: 2px solid var(--fill-color);\n",
              "    border-color: transparent;\n",
              "    border-bottom-color: var(--fill-color);\n",
              "    animation:\n",
              "      spin 1s steps(1) infinite;\n",
              "  }\n",
              "\n",
              "  @keyframes spin {\n",
              "    0% {\n",
              "      border-color: transparent;\n",
              "      border-bottom-color: var(--fill-color);\n",
              "      border-left-color: var(--fill-color);\n",
              "    }\n",
              "    20% {\n",
              "      border-color: transparent;\n",
              "      border-left-color: var(--fill-color);\n",
              "      border-top-color: var(--fill-color);\n",
              "    }\n",
              "    30% {\n",
              "      border-color: transparent;\n",
              "      border-left-color: var(--fill-color);\n",
              "      border-top-color: var(--fill-color);\n",
              "      border-right-color: var(--fill-color);\n",
              "    }\n",
              "    40% {\n",
              "      border-color: transparent;\n",
              "      border-right-color: var(--fill-color);\n",
              "      border-top-color: var(--fill-color);\n",
              "    }\n",
              "    60% {\n",
              "      border-color: transparent;\n",
              "      border-right-color: var(--fill-color);\n",
              "    }\n",
              "    80% {\n",
              "      border-color: transparent;\n",
              "      border-right-color: var(--fill-color);\n",
              "      border-bottom-color: var(--fill-color);\n",
              "    }\n",
              "    90% {\n",
              "      border-color: transparent;\n",
              "      border-bottom-color: var(--fill-color);\n",
              "    }\n",
              "  }\n",
              "</style>\n",
              "\n",
              "  <script>\n",
              "    async function quickchart(key) {\n",
              "      const quickchartButtonEl =\n",
              "        document.querySelector('#' + key + ' button');\n",
              "      quickchartButtonEl.disabled = true;  // To prevent multiple clicks.\n",
              "      quickchartButtonEl.classList.add('colab-df-spinner');\n",
              "      try {\n",
              "        const charts = await google.colab.kernel.invokeFunction(\n",
              "            'suggestCharts', [key], {});\n",
              "      } catch (error) {\n",
              "        console.error('Error during call to suggestCharts:', error);\n",
              "      }\n",
              "      quickchartButtonEl.classList.remove('colab-df-spinner');\n",
              "      quickchartButtonEl.classList.add('colab-df-quickchart-complete');\n",
              "    }\n",
              "    (() => {\n",
              "      let quickchartButtonEl =\n",
              "        document.querySelector('#df-d3d0bfc8-4106-4b25-b11c-87e21fbf94f4 button');\n",
              "      quickchartButtonEl.style.display =\n",
              "        google.colab.kernel.accessAllowed ? 'block' : 'none';\n",
              "    })();\n",
              "  </script>\n",
              "</div>\n",
              "    </div>\n",
              "  </div>\n"
            ]
          },
          "metadata": {},
          "execution_count": 111
        }
      ]
    },
    {
      "cell_type": "code",
      "source": [
        "A = np.column_stack((a, b))\n",
        "df2 = pd.DataFrame(A,columns=list(range(A.shape[1])))\n",
        "df2"
      ],
      "metadata": {
        "colab": {
          "base_uri": "https://localhost:8080/",
          "height": 237
        },
        "id": "6M2TF7qctf5d",
        "outputId": "9cb2986e-d204-492a-f2e1-eef990e03b21"
      },
      "execution_count": null,
      "outputs": [
        {
          "output_type": "execute_result",
          "data": {
            "text/plain": [
              "     0    1    2    3\n",
              "0  1.0 -2.0 -2.0  0.0\n",
              "1  1.0 -1.0  1.0  1.0\n",
              "2  1.0 -1.0 -1.0 -1.0\n",
              "3  1.0 -1.0  0.0  0.0\n",
              "4  1.0  0.0 -1.0  0.0\n",
              "5 -1.0  0.0  0.0  1.0"
            ],
            "text/html": [
              "\n",
              "  <div id=\"df-d4f73d6f-518e-48a5-89ef-dad465ac91aa\" class=\"colab-df-container\">\n",
              "    <div>\n",
              "<style scoped>\n",
              "    .dataframe tbody tr th:only-of-type {\n",
              "        vertical-align: middle;\n",
              "    }\n",
              "\n",
              "    .dataframe tbody tr th {\n",
              "        vertical-align: top;\n",
              "    }\n",
              "\n",
              "    .dataframe thead th {\n",
              "        text-align: right;\n",
              "    }\n",
              "</style>\n",
              "<table border=\"1\" class=\"dataframe\">\n",
              "  <thead>\n",
              "    <tr style=\"text-align: right;\">\n",
              "      <th></th>\n",
              "      <th>0</th>\n",
              "      <th>1</th>\n",
              "      <th>2</th>\n",
              "      <th>3</th>\n",
              "    </tr>\n",
              "  </thead>\n",
              "  <tbody>\n",
              "    <tr>\n",
              "      <th>0</th>\n",
              "      <td>1.0</td>\n",
              "      <td>-2.0</td>\n",
              "      <td>-2.0</td>\n",
              "      <td>0.0</td>\n",
              "    </tr>\n",
              "    <tr>\n",
              "      <th>1</th>\n",
              "      <td>1.0</td>\n",
              "      <td>-1.0</td>\n",
              "      <td>1.0</td>\n",
              "      <td>1.0</td>\n",
              "    </tr>\n",
              "    <tr>\n",
              "      <th>2</th>\n",
              "      <td>1.0</td>\n",
              "      <td>-1.0</td>\n",
              "      <td>-1.0</td>\n",
              "      <td>-1.0</td>\n",
              "    </tr>\n",
              "    <tr>\n",
              "      <th>3</th>\n",
              "      <td>1.0</td>\n",
              "      <td>-1.0</td>\n",
              "      <td>0.0</td>\n",
              "      <td>0.0</td>\n",
              "    </tr>\n",
              "    <tr>\n",
              "      <th>4</th>\n",
              "      <td>1.0</td>\n",
              "      <td>0.0</td>\n",
              "      <td>-1.0</td>\n",
              "      <td>0.0</td>\n",
              "    </tr>\n",
              "    <tr>\n",
              "      <th>5</th>\n",
              "      <td>-1.0</td>\n",
              "      <td>0.0</td>\n",
              "      <td>0.0</td>\n",
              "      <td>1.0</td>\n",
              "    </tr>\n",
              "  </tbody>\n",
              "</table>\n",
              "</div>\n",
              "    <div class=\"colab-df-buttons\">\n",
              "\n",
              "  <div class=\"colab-df-container\">\n",
              "    <button class=\"colab-df-convert\" onclick=\"convertToInteractive('df-d4f73d6f-518e-48a5-89ef-dad465ac91aa')\"\n",
              "            title=\"Convert this dataframe to an interactive table.\"\n",
              "            style=\"display:none;\">\n",
              "\n",
              "  <svg xmlns=\"http://www.w3.org/2000/svg\" height=\"24px\" viewBox=\"0 -960 960 960\">\n",
              "    <path d=\"M120-120v-720h720v720H120Zm60-500h600v-160H180v160Zm220 220h160v-160H400v160Zm0 220h160v-160H400v160ZM180-400h160v-160H180v160Zm440 0h160v-160H620v160ZM180-180h160v-160H180v160Zm440 0h160v-160H620v160Z\"/>\n",
              "  </svg>\n",
              "    </button>\n",
              "\n",
              "  <style>\n",
              "    .colab-df-container {\n",
              "      display:flex;\n",
              "      gap: 12px;\n",
              "    }\n",
              "\n",
              "    .colab-df-convert {\n",
              "      background-color: #E8F0FE;\n",
              "      border: none;\n",
              "      border-radius: 50%;\n",
              "      cursor: pointer;\n",
              "      display: none;\n",
              "      fill: #1967D2;\n",
              "      height: 32px;\n",
              "      padding: 0 0 0 0;\n",
              "      width: 32px;\n",
              "    }\n",
              "\n",
              "    .colab-df-convert:hover {\n",
              "      background-color: #E2EBFA;\n",
              "      box-shadow: 0px 1px 2px rgba(60, 64, 67, 0.3), 0px 1px 3px 1px rgba(60, 64, 67, 0.15);\n",
              "      fill: #174EA6;\n",
              "    }\n",
              "\n",
              "    .colab-df-buttons div {\n",
              "      margin-bottom: 4px;\n",
              "    }\n",
              "\n",
              "    [theme=dark] .colab-df-convert {\n",
              "      background-color: #3B4455;\n",
              "      fill: #D2E3FC;\n",
              "    }\n",
              "\n",
              "    [theme=dark] .colab-df-convert:hover {\n",
              "      background-color: #434B5C;\n",
              "      box-shadow: 0px 1px 3px 1px rgba(0, 0, 0, 0.15);\n",
              "      filter: drop-shadow(0px 1px 2px rgba(0, 0, 0, 0.3));\n",
              "      fill: #FFFFFF;\n",
              "    }\n",
              "  </style>\n",
              "\n",
              "    <script>\n",
              "      const buttonEl =\n",
              "        document.querySelector('#df-d4f73d6f-518e-48a5-89ef-dad465ac91aa button.colab-df-convert');\n",
              "      buttonEl.style.display =\n",
              "        google.colab.kernel.accessAllowed ? 'block' : 'none';\n",
              "\n",
              "      async function convertToInteractive(key) {\n",
              "        const element = document.querySelector('#df-d4f73d6f-518e-48a5-89ef-dad465ac91aa');\n",
              "        const dataTable =\n",
              "          await google.colab.kernel.invokeFunction('convertToInteractive',\n",
              "                                                    [key], {});\n",
              "        if (!dataTable) return;\n",
              "\n",
              "        const docLinkHtml = 'Like what you see? Visit the ' +\n",
              "          '<a target=\"_blank\" href=https://colab.research.google.com/notebooks/data_table.ipynb>data table notebook</a>'\n",
              "          + ' to learn more about interactive tables.';\n",
              "        element.innerHTML = '';\n",
              "        dataTable['output_type'] = 'display_data';\n",
              "        await google.colab.output.renderOutput(dataTable, element);\n",
              "        const docLink = document.createElement('div');\n",
              "        docLink.innerHTML = docLinkHtml;\n",
              "        element.appendChild(docLink);\n",
              "      }\n",
              "    </script>\n",
              "  </div>\n",
              "\n",
              "\n",
              "<div id=\"df-2faefc67-95c7-4e76-8437-f84d371c26f2\">\n",
              "  <button class=\"colab-df-quickchart\" onclick=\"quickchart('df-2faefc67-95c7-4e76-8437-f84d371c26f2')\"\n",
              "            title=\"Suggest charts\"\n",
              "            style=\"display:none;\">\n",
              "\n",
              "<svg xmlns=\"http://www.w3.org/2000/svg\" height=\"24px\"viewBox=\"0 0 24 24\"\n",
              "     width=\"24px\">\n",
              "    <g>\n",
              "        <path d=\"M19 3H5c-1.1 0-2 .9-2 2v14c0 1.1.9 2 2 2h14c1.1 0 2-.9 2-2V5c0-1.1-.9-2-2-2zM9 17H7v-7h2v7zm4 0h-2V7h2v10zm4 0h-2v-4h2v4z\"/>\n",
              "    </g>\n",
              "</svg>\n",
              "  </button>\n",
              "\n",
              "<style>\n",
              "  .colab-df-quickchart {\n",
              "      --bg-color: #E8F0FE;\n",
              "      --fill-color: #1967D2;\n",
              "      --hover-bg-color: #E2EBFA;\n",
              "      --hover-fill-color: #174EA6;\n",
              "      --disabled-fill-color: #AAA;\n",
              "      --disabled-bg-color: #DDD;\n",
              "  }\n",
              "\n",
              "  [theme=dark] .colab-df-quickchart {\n",
              "      --bg-color: #3B4455;\n",
              "      --fill-color: #D2E3FC;\n",
              "      --hover-bg-color: #434B5C;\n",
              "      --hover-fill-color: #FFFFFF;\n",
              "      --disabled-bg-color: #3B4455;\n",
              "      --disabled-fill-color: #666;\n",
              "  }\n",
              "\n",
              "  .colab-df-quickchart {\n",
              "    background-color: var(--bg-color);\n",
              "    border: none;\n",
              "    border-radius: 50%;\n",
              "    cursor: pointer;\n",
              "    display: none;\n",
              "    fill: var(--fill-color);\n",
              "    height: 32px;\n",
              "    padding: 0;\n",
              "    width: 32px;\n",
              "  }\n",
              "\n",
              "  .colab-df-quickchart:hover {\n",
              "    background-color: var(--hover-bg-color);\n",
              "    box-shadow: 0 1px 2px rgba(60, 64, 67, 0.3), 0 1px 3px 1px rgba(60, 64, 67, 0.15);\n",
              "    fill: var(--button-hover-fill-color);\n",
              "  }\n",
              "\n",
              "  .colab-df-quickchart-complete:disabled,\n",
              "  .colab-df-quickchart-complete:disabled:hover {\n",
              "    background-color: var(--disabled-bg-color);\n",
              "    fill: var(--disabled-fill-color);\n",
              "    box-shadow: none;\n",
              "  }\n",
              "\n",
              "  .colab-df-spinner {\n",
              "    border: 2px solid var(--fill-color);\n",
              "    border-color: transparent;\n",
              "    border-bottom-color: var(--fill-color);\n",
              "    animation:\n",
              "      spin 1s steps(1) infinite;\n",
              "  }\n",
              "\n",
              "  @keyframes spin {\n",
              "    0% {\n",
              "      border-color: transparent;\n",
              "      border-bottom-color: var(--fill-color);\n",
              "      border-left-color: var(--fill-color);\n",
              "    }\n",
              "    20% {\n",
              "      border-color: transparent;\n",
              "      border-left-color: var(--fill-color);\n",
              "      border-top-color: var(--fill-color);\n",
              "    }\n",
              "    30% {\n",
              "      border-color: transparent;\n",
              "      border-left-color: var(--fill-color);\n",
              "      border-top-color: var(--fill-color);\n",
              "      border-right-color: var(--fill-color);\n",
              "    }\n",
              "    40% {\n",
              "      border-color: transparent;\n",
              "      border-right-color: var(--fill-color);\n",
              "      border-top-color: var(--fill-color);\n",
              "    }\n",
              "    60% {\n",
              "      border-color: transparent;\n",
              "      border-right-color: var(--fill-color);\n",
              "    }\n",
              "    80% {\n",
              "      border-color: transparent;\n",
              "      border-right-color: var(--fill-color);\n",
              "      border-bottom-color: var(--fill-color);\n",
              "    }\n",
              "    90% {\n",
              "      border-color: transparent;\n",
              "      border-bottom-color: var(--fill-color);\n",
              "    }\n",
              "  }\n",
              "</style>\n",
              "\n",
              "  <script>\n",
              "    async function quickchart(key) {\n",
              "      const quickchartButtonEl =\n",
              "        document.querySelector('#' + key + ' button');\n",
              "      quickchartButtonEl.disabled = true;  // To prevent multiple clicks.\n",
              "      quickchartButtonEl.classList.add('colab-df-spinner');\n",
              "      try {\n",
              "        const charts = await google.colab.kernel.invokeFunction(\n",
              "            'suggestCharts', [key], {});\n",
              "      } catch (error) {\n",
              "        console.error('Error during call to suggestCharts:', error);\n",
              "      }\n",
              "      quickchartButtonEl.classList.remove('colab-df-spinner');\n",
              "      quickchartButtonEl.classList.add('colab-df-quickchart-complete');\n",
              "    }\n",
              "    (() => {\n",
              "      let quickchartButtonEl =\n",
              "        document.querySelector('#df-2faefc67-95c7-4e76-8437-f84d371c26f2 button');\n",
              "      quickchartButtonEl.style.display =\n",
              "        google.colab.kernel.accessAllowed ? 'block' : 'none';\n",
              "    })();\n",
              "  </script>\n",
              "</div>\n",
              "    </div>\n",
              "  </div>\n"
            ]
          },
          "metadata": {},
          "execution_count": 112
        }
      ]
    },
    {
      "cell_type": "code",
      "source": [
        "df2 = df1.append(df2,ignore_index=True)\n",
        "df2"
      ],
      "metadata": {
        "colab": {
          "base_uri": "https://localhost:8080/",
          "height": 355
        },
        "id": "bcn4B_vkusMV",
        "outputId": "afbd958e-b984-4cc6-addd-2d1abb3495c0"
      },
      "execution_count": null,
      "outputs": [
        {
          "output_type": "stream",
          "name": "stderr",
          "text": [
            "<ipython-input-113-a1cdf959423a>:1: FutureWarning: The frame.append method is deprecated and will be removed from pandas in a future version. Use pandas.concat instead.\n",
            "  df2 = df1.append(df2,ignore_index=True)\n"
          ]
        },
        {
          "output_type": "execute_result",
          "data": {
            "text/plain": [
              "     0    1    2    3\n",
              "0 -1.0  0.0  0.0 -1.0\n",
              "1  0.0  0.7  0.5 -1.0\n",
              "2  1.0 -2.0 -2.0  0.0\n",
              "3  1.0 -1.0  1.0  1.0\n",
              "4  1.0 -1.0 -1.0 -1.0\n",
              "5  1.0 -1.0  0.0  0.0\n",
              "6  1.0  0.0 -1.0  0.0\n",
              "7 -1.0  0.0  0.0  1.0"
            ],
            "text/html": [
              "\n",
              "  <div id=\"df-56a6200f-294a-4f2d-8928-fde210db49f5\" class=\"colab-df-container\">\n",
              "    <div>\n",
              "<style scoped>\n",
              "    .dataframe tbody tr th:only-of-type {\n",
              "        vertical-align: middle;\n",
              "    }\n",
              "\n",
              "    .dataframe tbody tr th {\n",
              "        vertical-align: top;\n",
              "    }\n",
              "\n",
              "    .dataframe thead th {\n",
              "        text-align: right;\n",
              "    }\n",
              "</style>\n",
              "<table border=\"1\" class=\"dataframe\">\n",
              "  <thead>\n",
              "    <tr style=\"text-align: right;\">\n",
              "      <th></th>\n",
              "      <th>0</th>\n",
              "      <th>1</th>\n",
              "      <th>2</th>\n",
              "      <th>3</th>\n",
              "    </tr>\n",
              "  </thead>\n",
              "  <tbody>\n",
              "    <tr>\n",
              "      <th>0</th>\n",
              "      <td>-1.0</td>\n",
              "      <td>0.0</td>\n",
              "      <td>0.0</td>\n",
              "      <td>-1.0</td>\n",
              "    </tr>\n",
              "    <tr>\n",
              "      <th>1</th>\n",
              "      <td>0.0</td>\n",
              "      <td>0.7</td>\n",
              "      <td>0.5</td>\n",
              "      <td>-1.0</td>\n",
              "    </tr>\n",
              "    <tr>\n",
              "      <th>2</th>\n",
              "      <td>1.0</td>\n",
              "      <td>-2.0</td>\n",
              "      <td>-2.0</td>\n",
              "      <td>0.0</td>\n",
              "    </tr>\n",
              "    <tr>\n",
              "      <th>3</th>\n",
              "      <td>1.0</td>\n",
              "      <td>-1.0</td>\n",
              "      <td>1.0</td>\n",
              "      <td>1.0</td>\n",
              "    </tr>\n",
              "    <tr>\n",
              "      <th>4</th>\n",
              "      <td>1.0</td>\n",
              "      <td>-1.0</td>\n",
              "      <td>-1.0</td>\n",
              "      <td>-1.0</td>\n",
              "    </tr>\n",
              "    <tr>\n",
              "      <th>5</th>\n",
              "      <td>1.0</td>\n",
              "      <td>-1.0</td>\n",
              "      <td>0.0</td>\n",
              "      <td>0.0</td>\n",
              "    </tr>\n",
              "    <tr>\n",
              "      <th>6</th>\n",
              "      <td>1.0</td>\n",
              "      <td>0.0</td>\n",
              "      <td>-1.0</td>\n",
              "      <td>0.0</td>\n",
              "    </tr>\n",
              "    <tr>\n",
              "      <th>7</th>\n",
              "      <td>-1.0</td>\n",
              "      <td>0.0</td>\n",
              "      <td>0.0</td>\n",
              "      <td>1.0</td>\n",
              "    </tr>\n",
              "  </tbody>\n",
              "</table>\n",
              "</div>\n",
              "    <div class=\"colab-df-buttons\">\n",
              "\n",
              "  <div class=\"colab-df-container\">\n",
              "    <button class=\"colab-df-convert\" onclick=\"convertToInteractive('df-56a6200f-294a-4f2d-8928-fde210db49f5')\"\n",
              "            title=\"Convert this dataframe to an interactive table.\"\n",
              "            style=\"display:none;\">\n",
              "\n",
              "  <svg xmlns=\"http://www.w3.org/2000/svg\" height=\"24px\" viewBox=\"0 -960 960 960\">\n",
              "    <path d=\"M120-120v-720h720v720H120Zm60-500h600v-160H180v160Zm220 220h160v-160H400v160Zm0 220h160v-160H400v160ZM180-400h160v-160H180v160Zm440 0h160v-160H620v160ZM180-180h160v-160H180v160Zm440 0h160v-160H620v160Z\"/>\n",
              "  </svg>\n",
              "    </button>\n",
              "\n",
              "  <style>\n",
              "    .colab-df-container {\n",
              "      display:flex;\n",
              "      gap: 12px;\n",
              "    }\n",
              "\n",
              "    .colab-df-convert {\n",
              "      background-color: #E8F0FE;\n",
              "      border: none;\n",
              "      border-radius: 50%;\n",
              "      cursor: pointer;\n",
              "      display: none;\n",
              "      fill: #1967D2;\n",
              "      height: 32px;\n",
              "      padding: 0 0 0 0;\n",
              "      width: 32px;\n",
              "    }\n",
              "\n",
              "    .colab-df-convert:hover {\n",
              "      background-color: #E2EBFA;\n",
              "      box-shadow: 0px 1px 2px rgba(60, 64, 67, 0.3), 0px 1px 3px 1px rgba(60, 64, 67, 0.15);\n",
              "      fill: #174EA6;\n",
              "    }\n",
              "\n",
              "    .colab-df-buttons div {\n",
              "      margin-bottom: 4px;\n",
              "    }\n",
              "\n",
              "    [theme=dark] .colab-df-convert {\n",
              "      background-color: #3B4455;\n",
              "      fill: #D2E3FC;\n",
              "    }\n",
              "\n",
              "    [theme=dark] .colab-df-convert:hover {\n",
              "      background-color: #434B5C;\n",
              "      box-shadow: 0px 1px 3px 1px rgba(0, 0, 0, 0.15);\n",
              "      filter: drop-shadow(0px 1px 2px rgba(0, 0, 0, 0.3));\n",
              "      fill: #FFFFFF;\n",
              "    }\n",
              "  </style>\n",
              "\n",
              "    <script>\n",
              "      const buttonEl =\n",
              "        document.querySelector('#df-56a6200f-294a-4f2d-8928-fde210db49f5 button.colab-df-convert');\n",
              "      buttonEl.style.display =\n",
              "        google.colab.kernel.accessAllowed ? 'block' : 'none';\n",
              "\n",
              "      async function convertToInteractive(key) {\n",
              "        const element = document.querySelector('#df-56a6200f-294a-4f2d-8928-fde210db49f5');\n",
              "        const dataTable =\n",
              "          await google.colab.kernel.invokeFunction('convertToInteractive',\n",
              "                                                    [key], {});\n",
              "        if (!dataTable) return;\n",
              "\n",
              "        const docLinkHtml = 'Like what you see? Visit the ' +\n",
              "          '<a target=\"_blank\" href=https://colab.research.google.com/notebooks/data_table.ipynb>data table notebook</a>'\n",
              "          + ' to learn more about interactive tables.';\n",
              "        element.innerHTML = '';\n",
              "        dataTable['output_type'] = 'display_data';\n",
              "        await google.colab.output.renderOutput(dataTable, element);\n",
              "        const docLink = document.createElement('div');\n",
              "        docLink.innerHTML = docLinkHtml;\n",
              "        element.appendChild(docLink);\n",
              "      }\n",
              "    </script>\n",
              "  </div>\n",
              "\n",
              "\n",
              "<div id=\"df-32a7bf0f-ca7f-4686-ae1f-cb8e66acc63c\">\n",
              "  <button class=\"colab-df-quickchart\" onclick=\"quickchart('df-32a7bf0f-ca7f-4686-ae1f-cb8e66acc63c')\"\n",
              "            title=\"Suggest charts\"\n",
              "            style=\"display:none;\">\n",
              "\n",
              "<svg xmlns=\"http://www.w3.org/2000/svg\" height=\"24px\"viewBox=\"0 0 24 24\"\n",
              "     width=\"24px\">\n",
              "    <g>\n",
              "        <path d=\"M19 3H5c-1.1 0-2 .9-2 2v14c0 1.1.9 2 2 2h14c1.1 0 2-.9 2-2V5c0-1.1-.9-2-2-2zM9 17H7v-7h2v7zm4 0h-2V7h2v10zm4 0h-2v-4h2v4z\"/>\n",
              "    </g>\n",
              "</svg>\n",
              "  </button>\n",
              "\n",
              "<style>\n",
              "  .colab-df-quickchart {\n",
              "      --bg-color: #E8F0FE;\n",
              "      --fill-color: #1967D2;\n",
              "      --hover-bg-color: #E2EBFA;\n",
              "      --hover-fill-color: #174EA6;\n",
              "      --disabled-fill-color: #AAA;\n",
              "      --disabled-bg-color: #DDD;\n",
              "  }\n",
              "\n",
              "  [theme=dark] .colab-df-quickchart {\n",
              "      --bg-color: #3B4455;\n",
              "      --fill-color: #D2E3FC;\n",
              "      --hover-bg-color: #434B5C;\n",
              "      --hover-fill-color: #FFFFFF;\n",
              "      --disabled-bg-color: #3B4455;\n",
              "      --disabled-fill-color: #666;\n",
              "  }\n",
              "\n",
              "  .colab-df-quickchart {\n",
              "    background-color: var(--bg-color);\n",
              "    border: none;\n",
              "    border-radius: 50%;\n",
              "    cursor: pointer;\n",
              "    display: none;\n",
              "    fill: var(--fill-color);\n",
              "    height: 32px;\n",
              "    padding: 0;\n",
              "    width: 32px;\n",
              "  }\n",
              "\n",
              "  .colab-df-quickchart:hover {\n",
              "    background-color: var(--hover-bg-color);\n",
              "    box-shadow: 0 1px 2px rgba(60, 64, 67, 0.3), 0 1px 3px 1px rgba(60, 64, 67, 0.15);\n",
              "    fill: var(--button-hover-fill-color);\n",
              "  }\n",
              "\n",
              "  .colab-df-quickchart-complete:disabled,\n",
              "  .colab-df-quickchart-complete:disabled:hover {\n",
              "    background-color: var(--disabled-bg-color);\n",
              "    fill: var(--disabled-fill-color);\n",
              "    box-shadow: none;\n",
              "  }\n",
              "\n",
              "  .colab-df-spinner {\n",
              "    border: 2px solid var(--fill-color);\n",
              "    border-color: transparent;\n",
              "    border-bottom-color: var(--fill-color);\n",
              "    animation:\n",
              "      spin 1s steps(1) infinite;\n",
              "  }\n",
              "\n",
              "  @keyframes spin {\n",
              "    0% {\n",
              "      border-color: transparent;\n",
              "      border-bottom-color: var(--fill-color);\n",
              "      border-left-color: var(--fill-color);\n",
              "    }\n",
              "    20% {\n",
              "      border-color: transparent;\n",
              "      border-left-color: var(--fill-color);\n",
              "      border-top-color: var(--fill-color);\n",
              "    }\n",
              "    30% {\n",
              "      border-color: transparent;\n",
              "      border-left-color: var(--fill-color);\n",
              "      border-top-color: var(--fill-color);\n",
              "      border-right-color: var(--fill-color);\n",
              "    }\n",
              "    40% {\n",
              "      border-color: transparent;\n",
              "      border-right-color: var(--fill-color);\n",
              "      border-top-color: var(--fill-color);\n",
              "    }\n",
              "    60% {\n",
              "      border-color: transparent;\n",
              "      border-right-color: var(--fill-color);\n",
              "    }\n",
              "    80% {\n",
              "      border-color: transparent;\n",
              "      border-right-color: var(--fill-color);\n",
              "      border-bottom-color: var(--fill-color);\n",
              "    }\n",
              "    90% {\n",
              "      border-color: transparent;\n",
              "      border-bottom-color: var(--fill-color);\n",
              "    }\n",
              "  }\n",
              "</style>\n",
              "\n",
              "  <script>\n",
              "    async function quickchart(key) {\n",
              "      const quickchartButtonEl =\n",
              "        document.querySelector('#' + key + ' button');\n",
              "      quickchartButtonEl.disabled = true;  // To prevent multiple clicks.\n",
              "      quickchartButtonEl.classList.add('colab-df-spinner');\n",
              "      try {\n",
              "        const charts = await google.colab.kernel.invokeFunction(\n",
              "            'suggestCharts', [key], {});\n",
              "      } catch (error) {\n",
              "        console.error('Error during call to suggestCharts:', error);\n",
              "      }\n",
              "      quickchartButtonEl.classList.remove('colab-df-spinner');\n",
              "      quickchartButtonEl.classList.add('colab-df-quickchart-complete');\n",
              "    }\n",
              "    (() => {\n",
              "      let quickchartButtonEl =\n",
              "        document.querySelector('#df-32a7bf0f-ca7f-4686-ae1f-cb8e66acc63c button');\n",
              "      quickchartButtonEl.style.display =\n",
              "        google.colab.kernel.accessAllowed ? 'block' : 'none';\n",
              "    })();\n",
              "  </script>\n",
              "</div>\n",
              "    </div>\n",
              "  </div>\n"
            ]
          },
          "metadata": {},
          "execution_count": 113
        }
      ]
    },
    {
      "cell_type": "markdown",
      "source": [
        "#**Solving the new system**"
      ],
      "metadata": {
        "id": "OJPUHZJKz4s4"
      }
    },
    {
      "cell_type": "code",
      "source": [
        "import numpy as np\n",
        "import pandas as pd\n",
        "from sympy import *\n",
        "import random"
      ],
      "metadata": {
        "id": "Xnr9tLQxf2te"
      },
      "execution_count": null,
      "outputs": []
    },
    {
      "cell_type": "code",
      "source": [
        "#importing data from csv file\n",
        "data = df2\n",
        "\n",
        "global flg\n",
        "z = data.loc[0]\n",
        "z = z[:-1]\n",
        "z = np.array(z)\n",
        "\n",
        "c = data.loc[1]\n",
        "c = c[:-1]\n",
        "c = np.array(c)\n",
        "\n",
        "b = data.iloc[2:, -1].values\n",
        "b =np.array(b)\n",
        "\n",
        "a = data.iloc[2:,:-1]\n",
        "a = np.array(a)\n",
        "\n",
        "m=len(a)\n",
        "n=len(a[0])\n",
        "\n",
        "b1_ = {}\n",
        "for i in range(len(a)):\n",
        "    b1_[tuple(a[i])] = b[i]\n",
        "\n",
        "flg =False"
      ],
      "metadata": {
        "id": "OvnJaeq-e2mw"
      },
      "execution_count": null,
      "outputs": []
    },
    {
      "cell_type": "code",
      "source": [
        "print(\"data \\n\",data)"
      ],
      "metadata": {
        "id": "Hiw4QMvBO82S",
        "outputId": "1957119f-fd27-4d65-feb3-1872a5eb9bd5",
        "colab": {
          "base_uri": "https://localhost:8080/"
        }
      },
      "execution_count": null,
      "outputs": [
        {
          "output_type": "stream",
          "name": "stdout",
          "text": [
            "data \n",
            "      0    1    2    3\n",
            "0 -1.0  0.0  0.0 -1.0\n",
            "1  0.0  0.7  0.5 -1.0\n",
            "2  1.0 -2.0 -2.0  0.0\n",
            "3  1.0 -1.0  1.0  1.0\n",
            "4  1.0 -1.0 -1.0 -1.0\n",
            "5  1.0 -1.0  0.0  0.0\n",
            "6  1.0  0.0 -1.0  0.0\n",
            "7 -1.0  0.0  0.0  1.0\n"
          ]
        }
      ]
    },
    {
      "cell_type": "code",
      "source": [
        "a"
      ],
      "metadata": {
        "colab": {
          "base_uri": "https://localhost:8080/"
        },
        "id": "KEhkLE7EFC-b",
        "outputId": "e1421a70-3680-4215-d613-f4dd62b02c39"
      },
      "execution_count": null,
      "outputs": [
        {
          "output_type": "execute_result",
          "data": {
            "text/plain": [
              "array([[ 1., -2., -2.],\n",
              "       [ 1., -1.,  1.],\n",
              "       [ 1., -1., -1.],\n",
              "       [ 1., -1.,  0.],\n",
              "       [ 1.,  0., -1.],\n",
              "       [-1.,  0.,  0.]])"
            ]
          },
          "metadata": {},
          "execution_count": 117
        }
      ]
    },
    {
      "cell_type": "code",
      "source": [
        "b"
      ],
      "metadata": {
        "colab": {
          "base_uri": "https://localhost:8080/"
        },
        "id": "2q2y0luyDcXf",
        "outputId": "cbd3c5db-9605-4a8b-faf4-38173d4d76f9"
      },
      "execution_count": null,
      "outputs": [
        {
          "output_type": "execute_result",
          "data": {
            "text/plain": [
              "array([ 0.,  1., -1.,  0.,  0.,  1.])"
            ]
          },
          "metadata": {},
          "execution_count": 118
        }
      ]
    },
    {
      "cell_type": "code",
      "source": [
        "c"
      ],
      "metadata": {
        "colab": {
          "base_uri": "https://localhost:8080/"
        },
        "id": "FpUKxmx1Go5O",
        "outputId": "e9f98610-a7fb-493a-a9bc-2963333f19cc"
      },
      "execution_count": null,
      "outputs": [
        {
          "output_type": "execute_result",
          "data": {
            "text/plain": [
              "array([0. , 0.7, 0.5])"
            ]
          },
          "metadata": {},
          "execution_count": 119
        }
      ]
    },
    {
      "cell_type": "code",
      "source": [
        "z"
      ],
      "metadata": {
        "colab": {
          "base_uri": "https://localhost:8080/"
        },
        "id": "YWJbSxNXoNM6",
        "outputId": "c223778a-633f-44ea-b326-ecc1287747b3"
      },
      "execution_count": null,
      "outputs": [
        {
          "output_type": "execute_result",
          "data": {
            "text/plain": [
              "array([-1.,  0.,  0.])"
            ]
          },
          "metadata": {},
          "execution_count": 120
        }
      ]
    },
    {
      "cell_type": "code",
      "source": [
        "# z=np.array([0,0,-1])"
      ],
      "metadata": {
        "id": "yYSktInmoWPh"
      },
      "execution_count": null,
      "outputs": []
    },
    {
      "cell_type": "code",
      "execution_count": null,
      "metadata": {
        "id": "Al_5IASJz8-1"
      },
      "outputs": [],
      "source": [
        "#Checking the feasility\n",
        "#Step 1\n",
        "def point_in_region(a,b,x):\n",
        "    return a @ x <= b\n",
        "\n",
        "def step1(a,b,z):\n",
        "    check=point_in_region(a,b,z)\n",
        "    for i in check:\n",
        "        if not i:\n",
        "            return False\n",
        "    return True"
      ]
    },
    {
      "cell_type": "code",
      "source": [
        "step1(a,b,z)"
      ],
      "metadata": {
        "colab": {
          "base_uri": "https://localhost:8080/"
        },
        "outputId": "12006378-cb47-4c65-9435-0e4e508ae1e3",
        "id": "mNY6X9t0z8-2"
      },
      "execution_count": null,
      "outputs": [
        {
          "output_type": "execute_result",
          "data": {
            "text/plain": [
              "True"
            ]
          },
          "metadata": {},
          "execution_count": 123
        }
      ]
    },
    {
      "cell_type": "code",
      "source": [
        "#counting the tight rows\n",
        "\n",
        "def no_of_tight(a,b,x):\n",
        "    tight_count=0\n",
        "    for i in range(len(a)):\n",
        "        if round(a[i] @ x.T,4) ==round(b[i],4):\n",
        "            tight_count+=1\n",
        "    return tight_count"
      ],
      "metadata": {
        "id": "r1O5-LEjz8-2"
      },
      "execution_count": null,
      "outputs": []
    },
    {
      "cell_type": "code",
      "source": [
        "#checking whether we are at a vertex\n",
        "\n",
        "def check_vertex(a1):\n",
        "    if len(a1)==0:\n",
        "        return False\n",
        "    if np.linalg.matrix_rank(a1)==n:\n",
        "        return True\n",
        "    else:\n",
        "        return False"
      ],
      "metadata": {
        "id": "DiCZ9Tljz8-2"
      },
      "execution_count": null,
      "outputs": []
    },
    {
      "cell_type": "code",
      "source": [
        "#split the matrix based on tight rows and untight rows\n",
        "\n",
        "def spliting_matrix(a,b,x):\n",
        "    a1=[]\n",
        "    a2=[]\n",
        "    b1=[]\n",
        "    b2=[]\n",
        "    #print(a)\n",
        "    for i in range(a.shape[0]):\n",
        "        # print(\"%%%%%%%%%%%%%%%%%\")\n",
        "        # print(a[i])\n",
        "        # print(b[i])\n",
        "        # print(a[i]@x.T)\n",
        "        # print(\"#############\")\n",
        "        if round(a[i] @ x.T,4) ==round(b[i],4):\n",
        "            a1.append(a[i])\n",
        "            b1.append(b[i])\n",
        "        else:\n",
        "            a2.append(a[i])\n",
        "            b2.append(b[i])\n",
        "    a1=np.array(a1)\n",
        "    a2=np.array(a2)\n",
        "    b1=np.array(b1)\n",
        "    b2=np.array(b2)\n",
        "    return a1,a2,b1,b2"
      ],
      "metadata": {
        "id": "NxiW6mw1z8-2"
      },
      "execution_count": null,
      "outputs": []
    },
    {
      "cell_type": "code",
      "source": [
        "def replace_zero(ar):\n",
        "  eps = 0.0000000000000001\n",
        "  count = 0\n",
        "  for i in ar:\n",
        "    if(i == 0):\n",
        "      i = eps\n",
        "      ar[count] = i\n",
        "    count+=1\n",
        "  return ar"
      ],
      "metadata": {
        "id": "Nh0EGUrmz8-2"
      },
      "execution_count": null,
      "outputs": []
    },
    {
      "cell_type": "code",
      "source": [
        "#function to add small values in b vector\n",
        "def add_small_values(b, value):\n",
        "    result = b.copy()\n",
        "    for i in range(len(result)):\n",
        "        result[i] = float(result[i]) + value ** (i+1)\n",
        "    return result"
      ],
      "metadata": {
        "id": "o-gK-HRIz8-2"
      },
      "execution_count": null,
      "outputs": []
    },
    {
      "cell_type": "code",
      "source": [
        "#reaching a vertex\n",
        "#Step 2\n",
        "def step2(a,b,x):\n",
        "    global flg\n",
        "    b_dub=b\n",
        "    cnt=0\n",
        "    gamma=0.1\n",
        "    tight_rows=no_of_tight(a,b,x)\n",
        "    a1,a2,b1,b2=spliting_matrix(a,b,x)\n",
        "\n",
        "    while not check_vertex(a1):\n",
        "        cnt+=1\n",
        "        if len(a1)==0:\n",
        "            a1=np.array([]).reshape((0, n))\n",
        "\n",
        "        u = np.array(Matrix(a1).nullspace()).astype(float)\n",
        "        u = u.flatten()\n",
        "        u = np.reshape(u, (-1, n))\n",
        "        u_hat = u / np.linalg.norm(u,axis=1,keepdims=True)\n",
        "        u_hat=u_hat[0]\n",
        "\n",
        "        dino = (np.dot(a2 , u_hat))\n",
        "\n",
        "        dino = replace_zero(dino)\n",
        "\n",
        "        alpha  = (b2 -np.dot(a2,x.T) )/ dino.T\n",
        "        # print(\"alpha\",alpha)\n",
        "        alpha = [i for i in alpha if abs(i)<= 1e+15 and abs(i)!=0]\n",
        "        alpha_1 = []\n",
        "        # removing -ve alphas\n",
        "        for aa in alpha:\n",
        "            if aa > 0:\n",
        "                alpha_1.append(aa)\n",
        "\n",
        "        # print(\"alpha_1\",alpha_1)\n",
        "        # taking min of alphas\n",
        "        if len(alpha_1) == 0:\n",
        "          alpha_1 = max(alpha)\n",
        "        else:\n",
        "          alpha_1 = min(alpha_1)\n",
        "        # print(\"alpha_1_1\",alpha_1)\n",
        "        u_hat = u_hat.T\n",
        "        x = x + alpha_1 * u_hat\n",
        "        # print(\"x\",x)\n",
        "        a1,a2,b1,b2=spliting_matrix(a,b,x)\n",
        "        if(cnt==100):\n",
        "          # gamma=round(gamma+0.1,2)\n",
        "          cnt=0\n",
        "          # print(\"Gamma\",gamma)\n",
        "          tight_rows=no_of_tight(a,b,x)\n",
        "          a1,a2,b1,b2=spliting_matrix(a,b,x)\n",
        "          # print(\"after gamma a=\",a)\n",
        "          # print(\"after gamma b\",b)\n",
        "          # print(\"after gamma x\",x)\n",
        "          # print(\"after gamma c\",)\n",
        "\n",
        "    if(no_of_tight(a1,b1,x)>n):\n",
        "      print(\"Handling Degeneration\")\n",
        "      t=np.array(b).astype(float)\n",
        "      b=add_small_values(t,gamma)\n",
        "      # print(\"Non deg\",b)\n",
        "      gamma=gamma/2\n",
        "      b,x=step2(a,b,z)\n",
        "      # print(\"new x\",x)\n",
        "      flg=True\n",
        "      a1,a2,b1,b2=spliting_matrix(a,b,x)\n",
        "    elif((no_of_tight(a1,b1,x)==n) and (np.linalg.matrix_rank(a1)==n) ):\n",
        "      # print(\"a1\",a1.shape)\n",
        "      # print(\"b\",b)\n",
        "      return b,x\n",
        "    # print(\"a1\",a1.shape)\n",
        "    # print(\"b\",b)\n",
        "    return b,x"
      ],
      "metadata": {
        "id": "t8UW_11jz8-2"
      },
      "execution_count": null,
      "outputs": []
    },
    {
      "cell_type": "code",
      "source": [
        "# step2(a,b,z)"
      ],
      "metadata": {
        "id": "dRuYmwpjz8-2"
      },
      "execution_count": null,
      "outputs": []
    },
    {
      "cell_type": "code",
      "source": [
        "#checking whether current point is an optimum\n",
        "def check_optimum(a1,c):\n",
        "    # print(\"inside op\")\n",
        "    # print(\"a1\",a1)\n",
        "    # print(\"c\",c)\n",
        "    # print(a1.shape)\n",
        "    # print(c.shape)\n",
        "    # print(\"----------------\")\n",
        "    alphas=np.linalg.solve(a1.T, c)\n",
        "    #print(alphas)\n",
        "    for i in alphas:\n",
        "        if i<0:\n",
        "            return false\n",
        "    return True"
      ],
      "metadata": {
        "id": "1SU9k_D_z8-2"
      },
      "execution_count": null,
      "outputs": []
    },
    {
      "cell_type": "code",
      "source": [],
      "metadata": {
        "id": "5ZGYuWhTz8-3"
      },
      "execution_count": null,
      "outputs": []
    },
    {
      "cell_type": "code",
      "source": [
        "#Function to get optimum point\n",
        "#Step 3\n",
        "def step3(a,b,x,c):\n",
        "    global flg\n",
        "    cnt = 0\n",
        "    gamma=0.1\n",
        "    # print(\"a=\",a)\n",
        "    # print(\"b\",b)\n",
        "    # print(\"x\",x)\n",
        "    # print(\"c\",)\n",
        "    a1,a2,b1,b2=spliting_matrix(a,b,x)\n",
        "    # print(\"------------------------------------------\")\n",
        "    # print(\"a1\",a1)\n",
        "    # print(\"hello\")\n",
        "    # print(\"c\",c)\n",
        "    while not check_optimum(a1,c):\n",
        "        # print(\"a1\",a1)\n",
        "        # print(a1.shape)\n",
        "        # print(c.shape)\n",
        "        if((np.linalg.matrix_rank(a1)>=n) and (no_of_tight(a1,b1,x)==n)):\n",
        "          print(\"****************************************\")\n",
        "          print(\"Present Vertex point= \",x)\n",
        "          a1i=np.linalg.inv(a1).T\n",
        "          alphas=np.linalg.solve(a1.T, c)\n",
        "          # print(alphas)\n",
        "          # print(len(alphas))\n",
        "          u=[]\n",
        "          for i in range(len(alphas)):\n",
        "              if alphas[i] < 0:\n",
        "                  u=a1i[i]\n",
        "                  break\n",
        "          u=np.array(u)\n",
        "          u=-1*u\n",
        "          u=u.T\n",
        "          dino = np.dot(a2 , u)\n",
        "\n",
        "          dino = replace_zero(dino)\n",
        "\n",
        "          alpha  = (b2 -np.dot(a2,x.T) )/ dino\n",
        "          # print(\"--------------\")\n",
        "          # print(\"prev alpha\",alpha)\n",
        "          #alpha = alpha[0]\n",
        "          alpha_1 = []\n",
        "          # removing -ve alphas\n",
        "          cnt = 0\n",
        "          for aa in alpha:\n",
        "              if aa > 0:\n",
        "                  cnt+=1\n",
        "                  alpha_1.append(aa)\n",
        "\n",
        "          if(len(alpha_1) == 0):\n",
        "            print(\"Unbounded result Optimum cannot be found !!\")\n",
        "            return []\n",
        "\n",
        "          # taking min of alphas\n",
        "          alpha_1 = min(alpha_1)\n",
        "          u_hat = u.T\n",
        "          # print(\"alpha_1\",alpha_1)\n",
        "          # print(\"prev x\",x)\n",
        "          x = x + alpha_1 * u_hat\n",
        "\n",
        "          # print(\"x=\",x)\n",
        "        elif (no_of_tight(a1,b1,x)>n):\n",
        "            print(\"Handling Degeneration\")\n",
        "            b=add_small_values(b,gamma)\n",
        "            gamma=gamma/2\n",
        "            x=step2(a,b,z)\n",
        "            flg=True\n",
        "        # print(\"b\",b)\n",
        "        a1,a2,b1,b2=spliting_matrix(a,b,x)\n",
        "        # print(\"------------\")\n",
        "        # print(\"a1\",a1)\n",
        "        # print(\"------------\")\n",
        "\n",
        "    k_tuple = tuple(map(tuple, a1))\n",
        "    for i in k_tuple:\n",
        "      b1_final.append(b1_.get(i))\n",
        "    if flg:\n",
        "      # print(\"a1\",a1)\n",
        "      # print(\"b1\",b1)\n",
        "      #return step2(a1,b1_final,z)[1]\n",
        "      # print(\"hhhhhhhhhhhhhhhhh\")\n",
        "      # print(a1)\n",
        "      # print(b1_final)\n",
        "      return np.linalg.solve(a1,b1_final)\n",
        "\n",
        "    else:\n",
        "      return x"
      ],
      "metadata": {
        "id": "ExJxsBy7z8-3"
      },
      "execution_count": null,
      "outputs": []
    },
    {
      "cell_type": "code",
      "source": [],
      "metadata": {
        "id": "adVwUNlxz8-3"
      },
      "execution_count": null,
      "outputs": []
    },
    {
      "cell_type": "code",
      "source": [
        "if step1(a,b,z):\n",
        "  b1_final=[]\n",
        "  step2_res = step2(a,b,z)\n",
        "  res = step3(a,step2_res[0],step2_res[1],c)\n",
        "  print(\"Optimum point:\",res)\n",
        "else:\n",
        "  print(\"Given point is not feasible.\")"
      ],
      "metadata": {
        "colab": {
          "base_uri": "https://localhost:8080/"
        },
        "outputId": "8eb818e3-b240-4507-a350-cd274f0f0c5f",
        "id": "b6m4KBUEz8-3"
      },
      "execution_count": null,
      "outputs": [
        {
          "output_type": "stream",
          "name": "stdout",
          "text": [
            "Handling Degeneration\n",
            "****************************************\n",
            "Present Vertex point=  [-1.     -1.0001  0.9991]\n",
            "****************************************\n",
            "Present Vertex point=  [-1.     -1.0001  1.0099]\n",
            "Unbounded result Optimum cannot be found !!\n",
            "Optimum point: []\n"
          ]
        }
      ]
    },
    {
      "cell_type": "code",
      "source": [],
      "metadata": {
        "id": "P6y23-wslVd-"
      },
      "execution_count": null,
      "outputs": []
    }
  ]
}