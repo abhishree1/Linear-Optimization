{
  "cells": [
    {
      "cell_type": "markdown",
      "source": [
        "Team members\n",
        "\n",
        "*   cs23mtech11030 - Parasa Naga Venkata Pavan\n",
        "*   cs23mtech11021 - Abhishree Gajanan Khangar\n",
        "*   cs23mtech11032 - Pulicharla Punith Kumar\n",
        "*   cs23mtech11004 - Apurba Saha\n",
        "\n",
        "\n",
        "\n",
        "\n"
      ],
      "metadata": {
        "id": "smZiNzQlMAmM"
      },
      "id": "smZiNzQlMAmM"
    },
    {
      "cell_type": "code",
      "execution_count": 1,
      "id": "a62dd3b1",
      "metadata": {
        "id": "a62dd3b1"
      },
      "outputs": [],
      "source": [
        "import numpy as np\n",
        "from sympy import *\n",
        "import random"
      ]
    },
    {
      "cell_type": "code",
      "execution_count": 2,
      "id": "e0a7b803",
      "metadata": {
        "id": "e0a7b803"
      },
      "outputs": [],
      "source": [
        "#Importing data from csv file\n",
        "import csv\n",
        "data2=[]\n",
        "file_path = 'input_bounded.csv'\n",
        "with open(file_path, 'r') as file:\n",
        "    # Create a CSV reader object\n",
        "    csv_reader = csv.reader(file)\n",
        "\n",
        "    # Iterate through each row in the CSV file\n",
        "    for row in csv_reader:\n",
        "        # Each row is a list of values\n",
        "        data2.append(row)"
      ]
    },
    {
      "cell_type": "code",
      "execution_count": 3,
      "id": "e6af17ef",
      "metadata": {
        "id": "e6af17ef"
      },
      "outputs": [],
      "source": [
        "#Converting char data to int\n",
        "data=[]\n",
        "for i in data2:\n",
        "    l=[]\n",
        "    for j in i:\n",
        "        l.append(float(j))\n",
        "    data.append(l)\n",
        "\n"
      ]
    },
    {
      "cell_type": "code",
      "execution_count": 4,
      "id": "674c555b",
      "metadata": {
        "colab": {
          "base_uri": "https://localhost:8080/"
        },
        "id": "674c555b",
        "outputId": "4d48919a-63d2-4de6-dba9-ae73e6f8ba9f"
      },
      "outputs": [
        {
          "output_type": "stream",
          "name": "stdout",
          "text": [
            "Data [[5.0, 4.0, 0.0], [5.0, 2.0, 0.0], [-2.0, 1.0, 5.0], [-3.0, -1.0, -3.0], [2.0, -3.0, 12.0], [-1.0, 0.0, 0.0], [0.0, -1.0, 0.0], [1.0, 1.0, 10.0]]\n"
          ]
        }
      ],
      "source": [
        "print(\"Data\",data)"
      ]
    },
    {
      "cell_type": "code",
      "execution_count": 5,
      "id": "56987ea4",
      "metadata": {
        "id": "56987ea4"
      },
      "outputs": [],
      "source": [
        "z=data[0][0:-1]\n",
        "c=data[1][0:-1]\n",
        "data1=data[2:]\n"
      ]
    },
    {
      "cell_type": "code",
      "execution_count": 6,
      "id": "cab0c090",
      "metadata": {
        "id": "cab0c090"
      },
      "outputs": [],
      "source": [
        "a=[]\n",
        "b=[]\n",
        "for i in data1:\n",
        "    a.append(i[:-1])\n",
        "    b.append(i[-1])\n",
        "\n",
        "m=len(a)\n",
        "n=len(a[0])\n",
        "a=np.array(a)\n",
        "b=np.array(b)\n",
        "z=np.array(z)\n"
      ]
    },
    {
      "cell_type": "code",
      "execution_count": 7,
      "id": "13fc593f",
      "metadata": {
        "id": "13fc593f"
      },
      "outputs": [],
      "source": [
        "#Function to check if point is in region\n",
        "def point_in_region(a,b,x):\n",
        "    return a @ x <= b"
      ]
    },
    {
      "cell_type": "code",
      "execution_count": 8,
      "id": "17149798",
      "metadata": {
        "id": "17149798"
      },
      "outputs": [],
      "source": [
        "#Step 1: Checking given point is in region\n",
        "def step1(a,b,z):\n",
        "    check=point_in_region(a,b,z)\n",
        "    for i in check:\n",
        "        if not i:\n",
        "            return False\n",
        "    return True"
      ]
    },
    {
      "cell_type": "code",
      "execution_count": 8,
      "id": "fcf73db2",
      "metadata": {
        "id": "fcf73db2"
      },
      "outputs": [],
      "source": []
    },
    {
      "cell_type": "code",
      "execution_count": 9,
      "id": "801de071",
      "metadata": {
        "id": "801de071"
      },
      "outputs": [],
      "source": [
        "#Function to no. of tight and untight rows\n",
        "def no_of_tight(a,b,x):\n",
        "    tight_count=0\n",
        "    for i in range(len(a)):\n",
        "        if round(a[i] @ x.T,4) ==b[i]:\n",
        "            tight_count+=1\n",
        "    return tight_count"
      ]
    },
    {
      "cell_type": "code",
      "execution_count": 10,
      "id": "c2aa6c14",
      "metadata": {
        "id": "c2aa6c14"
      },
      "outputs": [],
      "source": [
        "#Function to check if point is vertex\n",
        "def check_vertex(a1):\n",
        "    if len(a1)==0:\n",
        "        #print(\"!!!!!!!!!!!!!!!!!!!!!!!!!!!!!!!!!!!\")\n",
        "        return False\n",
        "    if np.linalg.matrix_rank(a1)==n:\n",
        "        return True\n",
        "    else:\n",
        "        return False"
      ]
    },
    {
      "cell_type": "code",
      "execution_count": 11,
      "id": "2f8796f6",
      "metadata": {
        "id": "2f8796f6"
      },
      "outputs": [],
      "source": [
        "#Function to get tight and untight rows\n",
        "def spliting_matrix(a,b,x):\n",
        "    a1=[]\n",
        "    a2=[]\n",
        "    b1=[]\n",
        "    b2=[]\n",
        "    #print(a)\n",
        "    for i in range(a.shape[0]):\n",
        "        # print(\"::::::::::::::::::\")\n",
        "        # print(a[i])\n",
        "        # print(x.T)\n",
        "        # print(b[i])\n",
        "        # print(a[i] @ x.T)\n",
        "        # print(\"!!!!!!!!!!!!!!!!!!\")\n",
        "        if round(a[i] @ x.T,4) ==round(b[i],4):\n",
        "            a1.append(a[i])\n",
        "            b1.append(b[i])\n",
        "        else:\n",
        "            a2.append(a[i])\n",
        "            b2.append(b[i])\n",
        "    a1=np.array(a1)\n",
        "    a2=np.array(a2)\n",
        "    b1=np.array(b1)\n",
        "    b2=np.array(b2)\n",
        "    return a1,a2,b1,b2"
      ]
    },
    {
      "cell_type": "code",
      "execution_count": 12,
      "id": "86d5646d",
      "metadata": {
        "id": "86d5646d"
      },
      "outputs": [],
      "source": [
        "def replace_zero(ar):\n",
        "  eps = 0.0000000000000001\n",
        "  count = 0\n",
        "  for i in ar:\n",
        "    if(i == 0):\n",
        "      i = eps\n",
        "      ar[count] = i\n",
        "    count+=1\n",
        "  return ar"
      ]
    },
    {
      "cell_type": "code",
      "execution_count": 13,
      "id": "eaa092f8",
      "metadata": {
        "id": "eaa092f8"
      },
      "outputs": [],
      "source": [
        "#Step 2: Function to get vertex\n",
        "def step2(a,b,x):\n",
        "    tight_rows=no_of_tight(a,b,x)\n",
        "    a1,a2,b1,b2=spliting_matrix(a,b,x)\n",
        "    while not check_vertex(a1):\n",
        "        # print(\"================\")\n",
        "        #x=new_point(a1,a2,b1,b2,x)\n",
        "        if len(a1)==0:\n",
        "            a1=np.array([]).reshape((0, n))\n",
        "        u = np.array(Matrix(a1).nullspace()).astype(float)\n",
        "        #print(a1)\n",
        "        # print(Matrix(a1))\n",
        "        # print(u)\n",
        "        u = u.flatten()\n",
        "        u = np.reshape(u, (-1, n))\n",
        "\n",
        "        u_hat = u / np.linalg.norm(u,axis=1,keepdims=True)\n",
        "        u_hat=u_hat[0]\n",
        "\n",
        "        di_alpha = (np.dot(a2 , u_hat))\n",
        "\n",
        "        di_alpha = replace_zero(di_alpha)\n",
        "\n",
        "        alpha  = (b2 -np.dot(a2,x.T) )/ di_alpha.T\n",
        "        #print(\"pre alpha\",alpha)\n",
        "        #alpha = alpha[0]\n",
        "        # print(\"aplha\",alpha)\n",
        "        alpha_1 = []\n",
        "        # removing -ve alphas\n",
        "        for aa in alpha:\n",
        "            if aa > 0:\n",
        "                alpha_1.append(aa)\n",
        "        # taking min of alphas\n",
        "\n",
        "        alpha_1 = min(alpha_1)\n",
        "        # alpha_1 = min(alpha_1)\n",
        "        u_hat = u_hat.T\n",
        "        # print(\"alpha r\",alpha_1)\n",
        "        # print(\"before x\",x)\n",
        "        x = x + alpha_1 * u_hat\n",
        "\n",
        "        print(\"x\",x)\n",
        "        a1,a2,b1,b2=spliting_matrix(a,b,x)\n",
        "    return x"
      ]
    },
    {
      "cell_type": "code",
      "execution_count": 14,
      "id": "9caecf2a",
      "metadata": {
        "id": "9caecf2a",
        "colab": {
          "base_uri": "https://localhost:8080/"
        },
        "outputId": "25a40f2d-34f5-430e-d8dd-51ea35b79298"
      },
      "outputs": [
        {
          "output_type": "stream",
          "name": "stdout",
          "text": [
            "x [6. 4.]\n",
            "x [1.66666667 8.33333333]\n"
          ]
        },
        {
          "output_type": "execute_result",
          "data": {
            "text/plain": [
              "array([1.66666667, 8.33333333])"
            ]
          },
          "metadata": {},
          "execution_count": 14
        }
      ],
      "source": [
        "step2(a,b,z)"
      ]
    },
    {
      "cell_type": "code",
      "execution_count": 14,
      "id": "984c280d",
      "metadata": {
        "id": "984c280d"
      },
      "outputs": [],
      "source": []
    },
    {
      "cell_type": "code",
      "execution_count": 15,
      "id": "8cd83195",
      "metadata": {
        "id": "8cd83195"
      },
      "outputs": [],
      "source": [
        "#Function to check given point is optimum\n",
        "def check_optimum(a1,c):\n",
        "    #print(\"^^^^^^^^^^^^^^^^^^\")\n",
        "    #print(a1)\n",
        "    alphas=np.linalg.solve(a1.T, c)\n",
        "    #print(alphas)\n",
        "    for i in alphas:\n",
        "        if i<0:\n",
        "            return False\n",
        "    return True"
      ]
    },
    {
      "cell_type": "code",
      "execution_count": 15,
      "id": "b45b8d9e",
      "metadata": {
        "id": "b45b8d9e"
      },
      "outputs": [],
      "source": []
    },
    {
      "cell_type": "code",
      "execution_count": 16,
      "id": "ecea5e6d",
      "metadata": {
        "id": "ecea5e6d"
      },
      "outputs": [],
      "source": [
        "#Function to get optimum point\n",
        "def step3(a,b,x,c):\n",
        "    a1,a2,b1,b2=spliting_matrix(a,b,x)\n",
        "    while not check_optimum(a1,c):\n",
        "        # print(\"****************************************\")\n",
        "        print(\"Present Vertex point\",x)\n",
        "        a1i=np.linalg.inv(a1).T\n",
        "        alphas=np.linalg.solve(a1.T, c)\n",
        "        # print(\"alphas:\",alphas)\n",
        "        # print(len(alphas))\n",
        "        u=[]\n",
        "        for i in range(len(alphas)):\n",
        "            if alphas[i] < 0:\n",
        "                u=a1i[i]\n",
        "                break\n",
        "        u=np.array(u)\n",
        "        u=-1*u\n",
        "        u=u.T\n",
        "        di_alpha = np.dot(a2 , u)\n",
        "\n",
        "        di_alpha = replace_zero(di_alpha)\n",
        "\n",
        "        alpha  = (b2 -np.dot(a2,x.T) )/ di_alpha\n",
        "        # print(\"--------------\")\n",
        "        # print(\"beta:\",alpha)\n",
        "        #alpha = alpha[0]\n",
        "        #print(alpha)\n",
        "        alpha_1 = []\n",
        "        # removing -ve alphas\n",
        "        for aa in alpha:\n",
        "            if aa > 0:\n",
        "                alpha_1.append(aa)\n",
        "        # taking min of alphas\n",
        "        alpha_1 = min(alpha_1)\n",
        "        u_hat = u.T\n",
        "        #print(\"before x:\",x)\n",
        "        x = x + alpha_1 * u_hat\n",
        "\n",
        "        # print(\"x=\",x)\n",
        "        a1,a2,b1,b2=spliting_matrix(a,b,x)\n",
        "    return x"
      ]
    },
    {
      "cell_type": "code",
      "execution_count": 17,
      "id": "6d888d88",
      "metadata": {
        "colab": {
          "base_uri": "https://localhost:8080/"
        },
        "id": "6d888d88",
        "outputId": "a3764051-55ca-4333-dd3c-e59a65bd9386"
      },
      "outputs": [
        {
          "output_type": "stream",
          "name": "stdout",
          "text": [
            "x [6. 4.]\n",
            "x [1.66666667 8.33333333]\n",
            "Present Vertex point [1.66666667 8.33333333]\n",
            "Optimum Point [8.4 1.6]\n"
          ]
        }
      ],
      "source": [
        "if step1(a,b,z):\n",
        "  res=step3(a,b,step2(a,b,z),c)\n",
        "  print(\"Optimum Point\",res)\n",
        "else:\n",
        "  print(\"Given point is not optimum\")"
      ]
    },
    {
      "cell_type": "code",
      "execution_count": 17,
      "id": "3ddcbf4e",
      "metadata": {
        "id": "3ddcbf4e"
      },
      "outputs": [],
      "source": []
    }
  ],
  "metadata": {
    "kernelspec": {
      "display_name": "Python 3 (ipykernel)",
      "language": "python",
      "name": "python3"
    },
    "language_info": {
      "codemirror_mode": {
        "name": "ipython",
        "version": 3
      },
      "file_extension": ".py",
      "mimetype": "text/x-python",
      "name": "python",
      "nbconvert_exporter": "python",
      "pygments_lexer": "ipython3",
      "version": "3.10.9"
    },
    "colab": {
      "provenance": []
    }
  },
  "nbformat": 4,
  "nbformat_minor": 5
}